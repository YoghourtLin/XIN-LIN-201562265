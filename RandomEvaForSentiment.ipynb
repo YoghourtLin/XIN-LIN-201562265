{
 "cells": [
  {
   "cell_type": "code",
   "execution_count": 2,
   "id": "ddeee4fa-6eb4-4b36-8073-3de8a86f30d5",
   "metadata": {},
   "outputs": [],
   "source": [
    "import pandas as pd"
   ]
  },
  {
   "cell_type": "code",
   "execution_count": 3,
   "id": "72f5fe57-e924-49cf-a078-83b12f0c52ec",
   "metadata": {},
   "outputs": [],
   "source": [
    "all_comments = pd.read_csv('All_Data_Sentiment.csv')"
   ]
  },
  {
   "cell_type": "code",
   "execution_count": 7,
   "id": "82f7e5a3-e6d3-41b0-8aa3-01257a23d5b6",
   "metadata": {},
   "outputs": [],
   "source": [
    "evaluation = all_comments.sample(600)"
   ]
  },
  {
   "cell_type": "code",
   "execution_count": 10,
   "id": "559ed8e8-692c-47f2-85af-335b4e4533af",
   "metadata": {},
   "outputs": [],
   "source": [
    "evaluation.to_csv('All_evaluation_sentiment.csv')"
   ]
  },
  {
   "cell_type": "code",
   "execution_count": 3,
   "id": "63e116f5-fbd5-4121-9bce-472812f1bee6",
   "metadata": {},
   "outputs": [],
   "source": [
    "finish_comments = pd.read_csv('All_evaluation_sentiment1-600.csv')"
   ]
  },
  {
   "cell_type": "code",
   "execution_count": 4,
   "id": "70a20371-e629-4603-954a-9e99750b3f7d",
   "metadata": {
    "tags": []
   },
   "outputs": [
    {
     "data": {
      "text/html": [
       "<div>\n",
       "<style scoped>\n",
       "    .dataframe tbody tr th:only-of-type {\n",
       "        vertical-align: middle;\n",
       "    }\n",
       "\n",
       "    .dataframe tbody tr th {\n",
       "        vertical-align: top;\n",
       "    }\n",
       "\n",
       "    .dataframe thead th {\n",
       "        text-align: right;\n",
       "    }\n",
       "</style>\n",
       "<table border=\"1\" class=\"dataframe\">\n",
       "  <thead>\n",
       "    <tr style=\"text-align: right;\">\n",
       "      <th></th>\n",
       "      <th>Unnamed: 0</th>\n",
       "      <th>code</th>\n",
       "      <th>label</th>\n",
       "      <th>subcategory</th>\n",
       "      <th>feedback</th>\n",
       "      <th>space</th>\n",
       "      <th>sentiment_score</th>\n",
       "      <th>sentiment tag</th>\n",
       "      <th>Human eva</th>\n",
       "    </tr>\n",
       "  </thead>\n",
       "  <tbody>\n",
       "    <tr>\n",
       "      <th>0</th>\n",
       "      <td>10396</td>\n",
       "      <td>cs</td>\n",
       "      <td>Care received</td>\n",
       "      <td>Advice and support</td>\n",
       "      <td>Before I started the 123 magic and sleep cours...</td>\n",
       "      <td>156</td>\n",
       "      <td>0.9749</td>\n",
       "      <td>pos</td>\n",
       "      <td>pos</td>\n",
       "    </tr>\n",
       "    <tr>\n",
       "      <th>1</th>\n",
       "      <td>10955</td>\n",
       "      <td>cl</td>\n",
       "      <td>Care received</td>\n",
       "      <td>Made A Difference To My Life</td>\n",
       "      <td>Coming to Arnold Lodge has changed my life. I ...</td>\n",
       "      <td>183</td>\n",
       "      <td>0.9806</td>\n",
       "      <td>pos</td>\n",
       "      <td>pos</td>\n",
       "    </tr>\n",
       "    <tr>\n",
       "      <th>2</th>\n",
       "      <td>11661</td>\n",
       "      <td>xf</td>\n",
       "      <td>Miscellaneous</td>\n",
       "      <td>Funding</td>\n",
       "      <td>I am on Adwick ward. It would be good if we co...</td>\n",
       "      <td>75</td>\n",
       "      <td>-0.7028</td>\n",
       "      <td>neg</td>\n",
       "      <td>neg</td>\n",
       "    </tr>\n",
       "    <tr>\n",
       "      <th>3</th>\n",
       "      <td>4108</td>\n",
       "      <td>xn</td>\n",
       "      <td>Couldn't be improved</td>\n",
       "      <td>Nothing to improve</td>\n",
       "      <td>NothIng dIfferent.  EverythIng was excellent.</td>\n",
       "      <td>5</td>\n",
       "      <td>0.5719</td>\n",
       "      <td>pos</td>\n",
       "      <td>pos</td>\n",
       "    </tr>\n",
       "    <tr>\n",
       "      <th>4</th>\n",
       "      <td>10733</td>\n",
       "      <td>ss</td>\n",
       "      <td>Staff</td>\n",
       "      <td>Staff: General</td>\n",
       "      <td>Attended with my 8 year old son for a tooth ex...</td>\n",
       "      <td>70</td>\n",
       "      <td>0.9905</td>\n",
       "      <td>pos</td>\n",
       "      <td>pos</td>\n",
       "    </tr>\n",
       "    <tr>\n",
       "      <th>...</th>\n",
       "      <td>...</td>\n",
       "      <td>...</td>\n",
       "      <td>...</td>\n",
       "      <td>...</td>\n",
       "      <td>...</td>\n",
       "      <td>...</td>\n",
       "      <td>...</td>\n",
       "      <td>...</td>\n",
       "      <td>...</td>\n",
       "    </tr>\n",
       "    <tr>\n",
       "      <th>595</th>\n",
       "      <td>9271</td>\n",
       "      <td>xn</td>\n",
       "      <td>Couldn't be improved</td>\n",
       "      <td>Nothing to improve</td>\n",
       "      <td>Nothing</td>\n",
       "      <td>0</td>\n",
       "      <td>0.0000</td>\n",
       "      <td>neu</td>\n",
       "      <td>neu</td>\n",
       "    </tr>\n",
       "    <tr>\n",
       "      <th>596</th>\n",
       "      <td>7917</td>\n",
       "      <td>ss</td>\n",
       "      <td>Staff</td>\n",
       "      <td>Staff: General</td>\n",
       "      <td>Wonderful staff, brilliant ppl skills</td>\n",
       "      <td>4</td>\n",
       "      <td>0.8176</td>\n",
       "      <td>pos</td>\n",
       "      <td>pos</td>\n",
       "    </tr>\n",
       "    <tr>\n",
       "      <th>597</th>\n",
       "      <td>8510</td>\n",
       "      <td>cc</td>\n",
       "      <td>Care received</td>\n",
       "      <td>Care received</td>\n",
       "      <td>I had to wait a while to be seen but I think t...</td>\n",
       "      <td>16</td>\n",
       "      <td>0.0000</td>\n",
       "      <td>neu</td>\n",
       "      <td>neu</td>\n",
       "    </tr>\n",
       "    <tr>\n",
       "      <th>598</th>\n",
       "      <td>1787</td>\n",
       "      <td>cs</td>\n",
       "      <td>Care received</td>\n",
       "      <td>Advice and support</td>\n",
       "      <td>Explanations given by the DESMOND team re: my ...</td>\n",
       "      <td>22</td>\n",
       "      <td>0.0000</td>\n",
       "      <td>neu</td>\n",
       "      <td>neu</td>\n",
       "    </tr>\n",
       "    <tr>\n",
       "      <th>599</th>\n",
       "      <td>4431</td>\n",
       "      <td>sa</td>\n",
       "      <td>Staff</td>\n",
       "      <td>Attitude Of Staff</td>\n",
       "      <td>My psychologist was very nice and friendly.</td>\n",
       "      <td>6</td>\n",
       "      <td>0.7620</td>\n",
       "      <td>pos</td>\n",
       "      <td>pos</td>\n",
       "    </tr>\n",
       "  </tbody>\n",
       "</table>\n",
       "<p>600 rows × 9 columns</p>\n",
       "</div>"
      ],
      "text/plain": [
       "     Unnamed: 0 code                 label                   subcategory  \\\n",
       "0         10396   cs         Care received            Advice and support   \n",
       "1         10955   cl         Care received  Made A Difference To My Life   \n",
       "2         11661   xf         Miscellaneous                       Funding   \n",
       "3          4108   xn  Couldn't be improved            Nothing to improve   \n",
       "4         10733   ss                 Staff                Staff: General   \n",
       "..          ...  ...                   ...                           ...   \n",
       "595        9271   xn  Couldn't be improved            Nothing to improve   \n",
       "596        7917   ss                 Staff                Staff: General   \n",
       "597        8510   cc         Care received                 Care received   \n",
       "598        1787   cs         Care received            Advice and support   \n",
       "599        4431   sa                 Staff             Attitude Of Staff   \n",
       "\n",
       "                                              feedback  space  \\\n",
       "0    Before I started the 123 magic and sleep cours...    156   \n",
       "1    Coming to Arnold Lodge has changed my life. I ...    183   \n",
       "2    I am on Adwick ward. It would be good if we co...     75   \n",
       "3        NothIng dIfferent.  EverythIng was excellent.      5   \n",
       "4    Attended with my 8 year old son for a tooth ex...     70   \n",
       "..                                                 ...    ...   \n",
       "595                                            Nothing      0   \n",
       "596              Wonderful staff, brilliant ppl skills      4   \n",
       "597  I had to wait a while to be seen but I think t...     16   \n",
       "598  Explanations given by the DESMOND team re: my ...     22   \n",
       "599        My psychologist was very nice and friendly.      6   \n",
       "\n",
       "     sentiment_score sentiment tag Human eva  \n",
       "0             0.9749           pos       pos  \n",
       "1             0.9806           pos       pos  \n",
       "2            -0.7028           neg       neg  \n",
       "3             0.5719           pos       pos  \n",
       "4             0.9905           pos       pos  \n",
       "..               ...           ...       ...  \n",
       "595           0.0000           neu       neu  \n",
       "596           0.8176           pos       pos  \n",
       "597           0.0000           neu       neu  \n",
       "598           0.0000           neu       neu  \n",
       "599           0.7620           pos       pos  \n",
       "\n",
       "[600 rows x 9 columns]"
      ]
     },
     "execution_count": 4,
     "metadata": {},
     "output_type": "execute_result"
    }
   ],
   "source": [
    "finish_comments"
   ]
  },
  {
   "cell_type": "code",
   "execution_count": 5,
   "id": "1cc80756-da0e-4cc8-936d-237cab11c44a",
   "metadata": {},
   "outputs": [
    {
     "data": {
      "text/plain": [
       "pos    422\n",
       "neu    133\n",
       "neg     45\n",
       "Name: Human eva, dtype: int64"
      ]
     },
     "execution_count": 5,
     "metadata": {},
     "output_type": "execute_result"
    }
   ],
   "source": [
    "finish_comments['Human eva'].value_counts()"
   ]
  },
  {
   "cell_type": "code",
   "execution_count": 6,
   "id": "f395f6a9-72a5-438a-9114-edf275c9c356",
   "metadata": {},
   "outputs": [
    {
     "data": {
      "text/plain": [
       "pos    417\n",
       "neu    117\n",
       "neg     66\n",
       "Name: sentiment tag, dtype: int64"
      ]
     },
     "execution_count": 6,
     "metadata": {},
     "output_type": "execute_result"
    }
   ],
   "source": [
    "finish_comments['sentiment tag'].value_counts()"
   ]
  },
  {
   "cell_type": "code",
   "execution_count": 11,
   "id": "5de3240d-2986-41bc-b94f-e2dd7781ba9d",
   "metadata": {},
   "outputs": [],
   "source": [
    "pos = finish_comments.loc[finish_comments['Human eva'] == 'pos']"
   ]
  },
  {
   "cell_type": "code",
   "execution_count": 12,
   "id": "e5559c58-a4f3-4173-9d71-56ca31917b82",
   "metadata": {},
   "outputs": [
    {
     "data": {
      "text/html": [
       "<div>\n",
       "<style scoped>\n",
       "    .dataframe tbody tr th:only-of-type {\n",
       "        vertical-align: middle;\n",
       "    }\n",
       "\n",
       "    .dataframe tbody tr th {\n",
       "        vertical-align: top;\n",
       "    }\n",
       "\n",
       "    .dataframe thead th {\n",
       "        text-align: right;\n",
       "    }\n",
       "</style>\n",
       "<table border=\"1\" class=\"dataframe\">\n",
       "  <thead>\n",
       "    <tr style=\"text-align: right;\">\n",
       "      <th></th>\n",
       "      <th>Unnamed: 0</th>\n",
       "      <th>code</th>\n",
       "      <th>label</th>\n",
       "      <th>subcategory</th>\n",
       "      <th>feedback</th>\n",
       "      <th>space</th>\n",
       "      <th>sentiment_score</th>\n",
       "      <th>sentiment tag</th>\n",
       "      <th>Human eva</th>\n",
       "    </tr>\n",
       "  </thead>\n",
       "  <tbody>\n",
       "    <tr>\n",
       "      <th>0</th>\n",
       "      <td>10396</td>\n",
       "      <td>cs</td>\n",
       "      <td>Care received</td>\n",
       "      <td>Advice and support</td>\n",
       "      <td>Before I started the 123 magic and sleep cours...</td>\n",
       "      <td>156</td>\n",
       "      <td>0.9749</td>\n",
       "      <td>pos</td>\n",
       "      <td>pos</td>\n",
       "    </tr>\n",
       "    <tr>\n",
       "      <th>1</th>\n",
       "      <td>10955</td>\n",
       "      <td>cl</td>\n",
       "      <td>Care received</td>\n",
       "      <td>Made A Difference To My Life</td>\n",
       "      <td>Coming to Arnold Lodge has changed my life. I ...</td>\n",
       "      <td>183</td>\n",
       "      <td>0.9806</td>\n",
       "      <td>pos</td>\n",
       "      <td>pos</td>\n",
       "    </tr>\n",
       "    <tr>\n",
       "      <th>3</th>\n",
       "      <td>4108</td>\n",
       "      <td>xn</td>\n",
       "      <td>Couldn't be improved</td>\n",
       "      <td>Nothing to improve</td>\n",
       "      <td>NothIng dIfferent.  EverythIng was excellent.</td>\n",
       "      <td>5</td>\n",
       "      <td>0.5719</td>\n",
       "      <td>pos</td>\n",
       "      <td>pos</td>\n",
       "    </tr>\n",
       "    <tr>\n",
       "      <th>4</th>\n",
       "      <td>10733</td>\n",
       "      <td>ss</td>\n",
       "      <td>Staff</td>\n",
       "      <td>Staff: General</td>\n",
       "      <td>Attended with my 8 year old son for a tooth ex...</td>\n",
       "      <td>70</td>\n",
       "      <td>0.9905</td>\n",
       "      <td>pos</td>\n",
       "      <td>pos</td>\n",
       "    </tr>\n",
       "    <tr>\n",
       "      <th>6</th>\n",
       "      <td>11840</td>\n",
       "      <td>cs</td>\n",
       "      <td>Care received</td>\n",
       "      <td>Advice and support</td>\n",
       "      <td>Very helpful and constructive sessions. Just t...</td>\n",
       "      <td>24</td>\n",
       "      <td>0.7902</td>\n",
       "      <td>pos</td>\n",
       "      <td>pos</td>\n",
       "    </tr>\n",
       "    <tr>\n",
       "      <th>...</th>\n",
       "      <td>...</td>\n",
       "      <td>...</td>\n",
       "      <td>...</td>\n",
       "      <td>...</td>\n",
       "      <td>...</td>\n",
       "      <td>...</td>\n",
       "      <td>...</td>\n",
       "      <td>...</td>\n",
       "      <td>...</td>\n",
       "    </tr>\n",
       "    <tr>\n",
       "      <th>592</th>\n",
       "      <td>3185</td>\n",
       "      <td>cc</td>\n",
       "      <td>Care received</td>\n",
       "      <td>Care received</td>\n",
       "      <td>FantastIc</td>\n",
       "      <td>0</td>\n",
       "      <td>0.5574</td>\n",
       "      <td>pos</td>\n",
       "      <td>pos</td>\n",
       "    </tr>\n",
       "    <tr>\n",
       "      <th>593</th>\n",
       "      <td>7146</td>\n",
       "      <td>xn</td>\n",
       "      <td>Couldn't be improved</td>\n",
       "      <td>Nothing to improve</td>\n",
       "      <td>Nothing serious and staff were first class.  T...</td>\n",
       "      <td>10</td>\n",
       "      <td>0.4063</td>\n",
       "      <td>pos</td>\n",
       "      <td>pos</td>\n",
       "    </tr>\n",
       "    <tr>\n",
       "      <th>594</th>\n",
       "      <td>5066</td>\n",
       "      <td>sa</td>\n",
       "      <td>Staff</td>\n",
       "      <td>Attitude Of Staff</td>\n",
       "      <td>The nurse was very kind and sympathetic and ga...</td>\n",
       "      <td>13</td>\n",
       "      <td>0.9294</td>\n",
       "      <td>pos</td>\n",
       "      <td>pos</td>\n",
       "    </tr>\n",
       "    <tr>\n",
       "      <th>596</th>\n",
       "      <td>7917</td>\n",
       "      <td>ss</td>\n",
       "      <td>Staff</td>\n",
       "      <td>Staff: General</td>\n",
       "      <td>Wonderful staff, brilliant ppl skills</td>\n",
       "      <td>4</td>\n",
       "      <td>0.8176</td>\n",
       "      <td>pos</td>\n",
       "      <td>pos</td>\n",
       "    </tr>\n",
       "    <tr>\n",
       "      <th>599</th>\n",
       "      <td>4431</td>\n",
       "      <td>sa</td>\n",
       "      <td>Staff</td>\n",
       "      <td>Attitude Of Staff</td>\n",
       "      <td>My psychologist was very nice and friendly.</td>\n",
       "      <td>6</td>\n",
       "      <td>0.7620</td>\n",
       "      <td>pos</td>\n",
       "      <td>pos</td>\n",
       "    </tr>\n",
       "  </tbody>\n",
       "</table>\n",
       "<p>422 rows × 9 columns</p>\n",
       "</div>"
      ],
      "text/plain": [
       "     Unnamed: 0 code                 label                   subcategory  \\\n",
       "0         10396   cs         Care received            Advice and support   \n",
       "1         10955   cl         Care received  Made A Difference To My Life   \n",
       "3          4108   xn  Couldn't be improved            Nothing to improve   \n",
       "4         10733   ss                 Staff                Staff: General   \n",
       "6         11840   cs         Care received            Advice and support   \n",
       "..          ...  ...                   ...                           ...   \n",
       "592        3185   cc         Care received                 Care received   \n",
       "593        7146   xn  Couldn't be improved            Nothing to improve   \n",
       "594        5066   sa                 Staff             Attitude Of Staff   \n",
       "596        7917   ss                 Staff                Staff: General   \n",
       "599        4431   sa                 Staff             Attitude Of Staff   \n",
       "\n",
       "                                              feedback  space  \\\n",
       "0    Before I started the 123 magic and sleep cours...    156   \n",
       "1    Coming to Arnold Lodge has changed my life. I ...    183   \n",
       "3        NothIng dIfferent.  EverythIng was excellent.      5   \n",
       "4    Attended with my 8 year old son for a tooth ex...     70   \n",
       "6    Very helpful and constructive sessions. Just t...     24   \n",
       "..                                                 ...    ...   \n",
       "592                                          FantastIc      0   \n",
       "593  Nothing serious and staff were first class.  T...     10   \n",
       "594  The nurse was very kind and sympathetic and ga...     13   \n",
       "596              Wonderful staff, brilliant ppl skills      4   \n",
       "599        My psychologist was very nice and friendly.      6   \n",
       "\n",
       "     sentiment_score sentiment tag Human eva  \n",
       "0             0.9749           pos       pos  \n",
       "1             0.9806           pos       pos  \n",
       "3             0.5719           pos       pos  \n",
       "4             0.9905           pos       pos  \n",
       "6             0.7902           pos       pos  \n",
       "..               ...           ...       ...  \n",
       "592           0.5574           pos       pos  \n",
       "593           0.4063           pos       pos  \n",
       "594           0.9294           pos       pos  \n",
       "596           0.8176           pos       pos  \n",
       "599           0.7620           pos       pos  \n",
       "\n",
       "[422 rows x 9 columns]"
      ]
     },
     "execution_count": 12,
     "metadata": {},
     "output_type": "execute_result"
    }
   ],
   "source": [
    "pos"
   ]
  },
  {
   "cell_type": "code",
   "execution_count": 13,
   "id": "9cb620b6-2219-4a73-bfc9-c678ebc707de",
   "metadata": {},
   "outputs": [],
   "source": [
    "# pos_pos means real pos assigned pos\n",
    "# pos_neu means real pos assigned neu\n",
    "# pos_neg means real pos assigned neg..."
   ]
  },
  {
   "cell_type": "code",
   "execution_count": 14,
   "id": "1fceba41-e443-4397-9a96-0fde25db685a",
   "metadata": {
    "tags": []
   },
   "outputs": [],
   "source": [
    "pos_pos = pos.loc[finish_comments['sentiment tag'] == 'pos']"
   ]
  },
  {
   "cell_type": "code",
   "execution_count": 15,
   "id": "358742ba-419e-4baa-bede-9a2507893e36",
   "metadata": {},
   "outputs": [
    {
     "data": {
      "text/html": [
       "<div>\n",
       "<style scoped>\n",
       "    .dataframe tbody tr th:only-of-type {\n",
       "        vertical-align: middle;\n",
       "    }\n",
       "\n",
       "    .dataframe tbody tr th {\n",
       "        vertical-align: top;\n",
       "    }\n",
       "\n",
       "    .dataframe thead th {\n",
       "        text-align: right;\n",
       "    }\n",
       "</style>\n",
       "<table border=\"1\" class=\"dataframe\">\n",
       "  <thead>\n",
       "    <tr style=\"text-align: right;\">\n",
       "      <th></th>\n",
       "      <th>Unnamed: 0</th>\n",
       "      <th>code</th>\n",
       "      <th>label</th>\n",
       "      <th>subcategory</th>\n",
       "      <th>feedback</th>\n",
       "      <th>space</th>\n",
       "      <th>sentiment_score</th>\n",
       "      <th>sentiment tag</th>\n",
       "      <th>Human eva</th>\n",
       "    </tr>\n",
       "  </thead>\n",
       "  <tbody>\n",
       "    <tr>\n",
       "      <th>0</th>\n",
       "      <td>10396</td>\n",
       "      <td>cs</td>\n",
       "      <td>Care received</td>\n",
       "      <td>Advice and support</td>\n",
       "      <td>Before I started the 123 magic and sleep cours...</td>\n",
       "      <td>156</td>\n",
       "      <td>0.9749</td>\n",
       "      <td>pos</td>\n",
       "      <td>pos</td>\n",
       "    </tr>\n",
       "    <tr>\n",
       "      <th>1</th>\n",
       "      <td>10955</td>\n",
       "      <td>cl</td>\n",
       "      <td>Care received</td>\n",
       "      <td>Made A Difference To My Life</td>\n",
       "      <td>Coming to Arnold Lodge has changed my life. I ...</td>\n",
       "      <td>183</td>\n",
       "      <td>0.9806</td>\n",
       "      <td>pos</td>\n",
       "      <td>pos</td>\n",
       "    </tr>\n",
       "    <tr>\n",
       "      <th>3</th>\n",
       "      <td>4108</td>\n",
       "      <td>xn</td>\n",
       "      <td>Couldn't be improved</td>\n",
       "      <td>Nothing to improve</td>\n",
       "      <td>NothIng dIfferent.  EverythIng was excellent.</td>\n",
       "      <td>5</td>\n",
       "      <td>0.5719</td>\n",
       "      <td>pos</td>\n",
       "      <td>pos</td>\n",
       "    </tr>\n",
       "    <tr>\n",
       "      <th>4</th>\n",
       "      <td>10733</td>\n",
       "      <td>ss</td>\n",
       "      <td>Staff</td>\n",
       "      <td>Staff: General</td>\n",
       "      <td>Attended with my 8 year old son for a tooth ex...</td>\n",
       "      <td>70</td>\n",
       "      <td>0.9905</td>\n",
       "      <td>pos</td>\n",
       "      <td>pos</td>\n",
       "    </tr>\n",
       "    <tr>\n",
       "      <th>6</th>\n",
       "      <td>11840</td>\n",
       "      <td>cs</td>\n",
       "      <td>Care received</td>\n",
       "      <td>Advice and support</td>\n",
       "      <td>Very helpful and constructive sessions. Just t...</td>\n",
       "      <td>24</td>\n",
       "      <td>0.7902</td>\n",
       "      <td>pos</td>\n",
       "      <td>pos</td>\n",
       "    </tr>\n",
       "    <tr>\n",
       "      <th>...</th>\n",
       "      <td>...</td>\n",
       "      <td>...</td>\n",
       "      <td>...</td>\n",
       "      <td>...</td>\n",
       "      <td>...</td>\n",
       "      <td>...</td>\n",
       "      <td>...</td>\n",
       "      <td>...</td>\n",
       "      <td>...</td>\n",
       "    </tr>\n",
       "    <tr>\n",
       "      <th>592</th>\n",
       "      <td>3185</td>\n",
       "      <td>cc</td>\n",
       "      <td>Care received</td>\n",
       "      <td>Care received</td>\n",
       "      <td>FantastIc</td>\n",
       "      <td>0</td>\n",
       "      <td>0.5574</td>\n",
       "      <td>pos</td>\n",
       "      <td>pos</td>\n",
       "    </tr>\n",
       "    <tr>\n",
       "      <th>593</th>\n",
       "      <td>7146</td>\n",
       "      <td>xn</td>\n",
       "      <td>Couldn't be improved</td>\n",
       "      <td>Nothing to improve</td>\n",
       "      <td>Nothing serious and staff were first class.  T...</td>\n",
       "      <td>10</td>\n",
       "      <td>0.4063</td>\n",
       "      <td>pos</td>\n",
       "      <td>pos</td>\n",
       "    </tr>\n",
       "    <tr>\n",
       "      <th>594</th>\n",
       "      <td>5066</td>\n",
       "      <td>sa</td>\n",
       "      <td>Staff</td>\n",
       "      <td>Attitude Of Staff</td>\n",
       "      <td>The nurse was very kind and sympathetic and ga...</td>\n",
       "      <td>13</td>\n",
       "      <td>0.9294</td>\n",
       "      <td>pos</td>\n",
       "      <td>pos</td>\n",
       "    </tr>\n",
       "    <tr>\n",
       "      <th>596</th>\n",
       "      <td>7917</td>\n",
       "      <td>ss</td>\n",
       "      <td>Staff</td>\n",
       "      <td>Staff: General</td>\n",
       "      <td>Wonderful staff, brilliant ppl skills</td>\n",
       "      <td>4</td>\n",
       "      <td>0.8176</td>\n",
       "      <td>pos</td>\n",
       "      <td>pos</td>\n",
       "    </tr>\n",
       "    <tr>\n",
       "      <th>599</th>\n",
       "      <td>4431</td>\n",
       "      <td>sa</td>\n",
       "      <td>Staff</td>\n",
       "      <td>Attitude Of Staff</td>\n",
       "      <td>My psychologist was very nice and friendly.</td>\n",
       "      <td>6</td>\n",
       "      <td>0.7620</td>\n",
       "      <td>pos</td>\n",
       "      <td>pos</td>\n",
       "    </tr>\n",
       "  </tbody>\n",
       "</table>\n",
       "<p>378 rows × 9 columns</p>\n",
       "</div>"
      ],
      "text/plain": [
       "     Unnamed: 0 code                 label                   subcategory  \\\n",
       "0         10396   cs         Care received            Advice and support   \n",
       "1         10955   cl         Care received  Made A Difference To My Life   \n",
       "3          4108   xn  Couldn't be improved            Nothing to improve   \n",
       "4         10733   ss                 Staff                Staff: General   \n",
       "6         11840   cs         Care received            Advice and support   \n",
       "..          ...  ...                   ...                           ...   \n",
       "592        3185   cc         Care received                 Care received   \n",
       "593        7146   xn  Couldn't be improved            Nothing to improve   \n",
       "594        5066   sa                 Staff             Attitude Of Staff   \n",
       "596        7917   ss                 Staff                Staff: General   \n",
       "599        4431   sa                 Staff             Attitude Of Staff   \n",
       "\n",
       "                                              feedback  space  \\\n",
       "0    Before I started the 123 magic and sleep cours...    156   \n",
       "1    Coming to Arnold Lodge has changed my life. I ...    183   \n",
       "3        NothIng dIfferent.  EverythIng was excellent.      5   \n",
       "4    Attended with my 8 year old son for a tooth ex...     70   \n",
       "6    Very helpful and constructive sessions. Just t...     24   \n",
       "..                                                 ...    ...   \n",
       "592                                          FantastIc      0   \n",
       "593  Nothing serious and staff were first class.  T...     10   \n",
       "594  The nurse was very kind and sympathetic and ga...     13   \n",
       "596              Wonderful staff, brilliant ppl skills      4   \n",
       "599        My psychologist was very nice and friendly.      6   \n",
       "\n",
       "     sentiment_score sentiment tag Human eva  \n",
       "0             0.9749           pos       pos  \n",
       "1             0.9806           pos       pos  \n",
       "3             0.5719           pos       pos  \n",
       "4             0.9905           pos       pos  \n",
       "6             0.7902           pos       pos  \n",
       "..               ...           ...       ...  \n",
       "592           0.5574           pos       pos  \n",
       "593           0.4063           pos       pos  \n",
       "594           0.9294           pos       pos  \n",
       "596           0.8176           pos       pos  \n",
       "599           0.7620           pos       pos  \n",
       "\n",
       "[378 rows x 9 columns]"
      ]
     },
     "execution_count": 15,
     "metadata": {},
     "output_type": "execute_result"
    }
   ],
   "source": [
    "pos_pos"
   ]
  },
  {
   "cell_type": "code",
   "execution_count": 16,
   "id": "374903a4-b744-4f45-ac78-d9cde3362af6",
   "metadata": {},
   "outputs": [
    {
     "data": {
      "text/plain": [
       "20"
      ]
     },
     "execution_count": 16,
     "metadata": {},
     "output_type": "execute_result"
    }
   ],
   "source": [
    "# Calculate confusion metric, showing in the report\n",
    "\n",
    "pos_neu = pos.loc[finish_comments['sentiment tag'] == 'neu']\n",
    "pos_neu.shape[0]"
   ]
  },
  {
   "cell_type": "code",
   "execution_count": 17,
   "id": "c4dcb4f3-8e70-4768-a242-c378497ad7ea",
   "metadata": {},
   "outputs": [
    {
     "data": {
      "text/plain": [
       "24"
      ]
     },
     "execution_count": 17,
     "metadata": {},
     "output_type": "execute_result"
    }
   ],
   "source": [
    "pos_neg = pos.loc[finish_comments['sentiment tag'] == 'neg']\n",
    "pos_neg.shape[0]"
   ]
  },
  {
   "cell_type": "code",
   "execution_count": 18,
   "id": "52c956e5-8c67-48e7-93e9-04f00d1c0419",
   "metadata": {},
   "outputs": [],
   "source": [
    "neu = finish_comments.loc[finish_comments['Human eva'] == 'neu']"
   ]
  },
  {
   "cell_type": "code",
   "execution_count": 19,
   "id": "1a13d3cf-1268-4fd1-85bb-dc917528ebd5",
   "metadata": {},
   "outputs": [
    {
     "data": {
      "text/plain": [
       "133"
      ]
     },
     "execution_count": 19,
     "metadata": {},
     "output_type": "execute_result"
    }
   ],
   "source": [
    "neu.shape[0]"
   ]
  },
  {
   "cell_type": "code",
   "execution_count": 20,
   "id": "c0454b38-8909-4351-ac71-54060c06a595",
   "metadata": {},
   "outputs": [
    {
     "data": {
      "text/plain": [
       "27"
      ]
     },
     "execution_count": 20,
     "metadata": {},
     "output_type": "execute_result"
    }
   ],
   "source": [
    "neu_pos = neu.loc[finish_comments['sentiment tag'] == 'pos']\n",
    "neu_pos.shape[0]"
   ]
  },
  {
   "cell_type": "code",
   "execution_count": 21,
   "id": "1c3abc9e-1826-4064-90f8-7f71d717362c",
   "metadata": {},
   "outputs": [
    {
     "data": {
      "text/plain": [
       "92"
      ]
     },
     "execution_count": 21,
     "metadata": {},
     "output_type": "execute_result"
    }
   ],
   "source": [
    "neu_neu = neu.loc[finish_comments['sentiment tag'] == 'neu']\n",
    "neu_neu.shape[0]"
   ]
  },
  {
   "cell_type": "code",
   "execution_count": 22,
   "id": "44a53f94-dee6-4741-bc93-4ba09329db9f",
   "metadata": {},
   "outputs": [
    {
     "data": {
      "text/plain": [
       "14"
      ]
     },
     "execution_count": 22,
     "metadata": {},
     "output_type": "execute_result"
    }
   ],
   "source": [
    "neu_neg = neu.loc[finish_comments['sentiment tag'] == 'neg']\n",
    "neu_neg.shape[0]"
   ]
  },
  {
   "cell_type": "code",
   "execution_count": 23,
   "id": "f01f0fc9-0661-459a-8a51-208123527c3c",
   "metadata": {},
   "outputs": [
    {
     "data": {
      "text/plain": [
       "45"
      ]
     },
     "execution_count": 23,
     "metadata": {},
     "output_type": "execute_result"
    }
   ],
   "source": [
    "neg = finish_comments.loc[finish_comments['Human eva'] == 'neg']\n",
    "neg.shape[0]"
   ]
  },
  {
   "cell_type": "code",
   "execution_count": 24,
   "id": "eb24f89c-bc11-4ae2-b9a0-68b51670f52a",
   "metadata": {},
   "outputs": [
    {
     "data": {
      "text/plain": [
       "12"
      ]
     },
     "execution_count": 24,
     "metadata": {},
     "output_type": "execute_result"
    }
   ],
   "source": [
    "neg_pos = neg.loc[finish_comments['sentiment tag'] == 'pos']\n",
    "neg_pos.shape[0]"
   ]
  },
  {
   "cell_type": "code",
   "execution_count": 25,
   "id": "719c6dd9-05bb-4228-a6d1-3d395462aa2b",
   "metadata": {},
   "outputs": [
    {
     "data": {
      "text/plain": [
       "5"
      ]
     },
     "execution_count": 25,
     "metadata": {},
     "output_type": "execute_result"
    }
   ],
   "source": [
    "neg_neu = neg.loc[finish_comments['sentiment tag'] == 'neu']\n",
    "neg_neu.shape[0]"
   ]
  },
  {
   "cell_type": "code",
   "execution_count": 26,
   "id": "42989b89-4277-4b28-bd6f-a6036622dadb",
   "metadata": {},
   "outputs": [
    {
     "data": {
      "text/plain": [
       "28"
      ]
     },
     "execution_count": 26,
     "metadata": {},
     "output_type": "execute_result"
    }
   ],
   "source": [
    "neg_neg = neg.loc[finish_comments['sentiment tag'] == 'neg']\n",
    "neg_neg.shape[0]"
   ]
  },
  {
   "cell_type": "code",
   "execution_count": null,
   "id": "05d6011a-4e96-440c-8c3b-02cba90d8b35",
   "metadata": {},
   "outputs": [],
   "source": []
  }
 ],
 "metadata": {
  "kernelspec": {
   "display_name": "Python 3 (ipykernel)",
   "language": "python",
   "name": "python3"
  },
  "language_info": {
   "codemirror_mode": {
    "name": "ipython",
    "version": 3
   },
   "file_extension": ".py",
   "mimetype": "text/x-python",
   "name": "python",
   "nbconvert_exporter": "python",
   "pygments_lexer": "ipython3",
   "version": "3.8.12"
  }
 },
 "nbformat": 4,
 "nbformat_minor": 5
}
