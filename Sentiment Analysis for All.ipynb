{
 "cells": [
  {
   "cell_type": "code",
   "execution_count": 2,
   "id": "d891fb66",
   "metadata": {},
   "outputs": [
    {
     "name": "stderr",
     "output_type": "stream",
     "text": [
      "[nltk_data] Downloading package vader_lexicon to\n",
      "[nltk_data]     /Users/linxin/nltk_data...\n",
      "[nltk_data]   Package vader_lexicon is already up-to-date!\n"
     ]
    }
   ],
   "source": [
    "# import package\n",
    "\n",
    "import nltk\n",
    "nltk.download('vader_lexicon')\n",
    "from nltk.sentiment.vader import SentimentIntensityAnalyzer\n",
    "\n",
    "import pandas as pd\n",
    "\n",
    "sta = SentimentIntensityAnalyzer()"
   ]
  },
  {
   "cell_type": "code",
   "execution_count": 3,
   "id": "06af0b90",
   "metadata": {},
   "outputs": [
    {
     "data": {
      "text/plain": [
       "{'neg': 0.059, 'neu': 0.886, 'pos': 0.055, 'compound': 0.1744}"
      ]
     },
     "execution_count": 3,
     "metadata": {},
     "output_type": "execute_result"
    }
   ],
   "source": [
    "# A simple test\n",
    "\n",
    "a = \"My relative would be told they would get a phone call on several occasions, and often didn't. Even though they don't work, it increased their anxiety waiting in all day for calls that never came. If you say you will call then please do. They found it hard to keep up with conversations, when they did receive contact as plans changed throughout the call.  Make sure patients understand what has been discussed, rather than bombard them with plans and information.\"\n",
    "b = sta.polarity_scores(a)\n",
    "compound = b.get('compound')\n",
    "b"
   ]
  },
  {
   "cell_type": "code",
   "execution_count": 4,
   "id": "3fece23a-ccb5-4d6b-85e2-3a995651352d",
   "metadata": {},
   "outputs": [
    {
     "data": {
      "text/plain": [
       "dict"
      ]
     },
     "execution_count": 4,
     "metadata": {},
     "output_type": "execute_result"
    }
   ],
   "source": [
    "# Check the type of sentiment result\n",
    "\n",
    "a = 'This was a good movie.'\n",
    "b = sta.polarity_scores(a)\n",
    "type(b)"
   ]
  },
  {
   "cell_type": "code",
   "execution_count": 6,
   "id": "5e790048",
   "metadata": {},
   "outputs": [],
   "source": [
    "comments_data = pd.read_csv('All_Data_Original.csv')"
   ]
  },
  {
   "cell_type": "code",
   "execution_count": 7,
   "id": "4d45b1e5",
   "metadata": {},
   "outputs": [
    {
     "data": {
      "text/html": [
       "<div>\n",
       "<style scoped>\n",
       "    .dataframe tbody tr th:only-of-type {\n",
       "        vertical-align: middle;\n",
       "    }\n",
       "\n",
       "    .dataframe tbody tr th {\n",
       "        vertical-align: top;\n",
       "    }\n",
       "\n",
       "    .dataframe thead th {\n",
       "        text-align: right;\n",
       "    }\n",
       "</style>\n",
       "<table border=\"1\" class=\"dataframe\">\n",
       "  <thead>\n",
       "    <tr style=\"text-align: right;\">\n",
       "      <th></th>\n",
       "      <th>code</th>\n",
       "      <th>label</th>\n",
       "      <th>subcategory</th>\n",
       "      <th>feedback</th>\n",
       "      <th>space</th>\n",
       "      <th>sentiment_score</th>\n",
       "      <th>sentiment tag</th>\n",
       "    </tr>\n",
       "  </thead>\n",
       "  <tbody>\n",
       "    <tr>\n",
       "      <th>0</th>\n",
       "      <td>xn</td>\n",
       "      <td>Couldn't be improved</td>\n",
       "      <td>Nothing to improve</td>\n",
       "      <td>Nothing.</td>\n",
       "      <td>0</td>\n",
       "      <td>NaN</td>\n",
       "      <td>NaN</td>\n",
       "    </tr>\n",
       "    <tr>\n",
       "      <th>1</th>\n",
       "      <td>ee</td>\n",
       "      <td>Environment/ facilities</td>\n",
       "      <td>Environment/ facilities</td>\n",
       "      <td>Temperature in theatre a little low.</td>\n",
       "      <td>5</td>\n",
       "      <td>NaN</td>\n",
       "      <td>NaN</td>\n",
       "    </tr>\n",
       "    <tr>\n",
       "      <th>2</th>\n",
       "      <td>ap</td>\n",
       "      <td>Access</td>\n",
       "      <td>Provision of services</td>\n",
       "      <td>Same service available at Bingham Health Centre.</td>\n",
       "      <td>6</td>\n",
       "      <td>NaN</td>\n",
       "      <td>NaN</td>\n",
       "    </tr>\n",
       "    <tr>\n",
       "      <th>3</th>\n",
       "      <td>mi</td>\n",
       "      <td>Communication</td>\n",
       "      <td>Amount/clarity of information</td>\n",
       "      <td>Appointment details given over phone - no phys...</td>\n",
       "      <td>26</td>\n",
       "      <td>NaN</td>\n",
       "      <td>NaN</td>\n",
       "    </tr>\n",
       "    <tr>\n",
       "      <th>4</th>\n",
       "      <td>mm</td>\n",
       "      <td>Communication</td>\n",
       "      <td>Communication</td>\n",
       "      <td>On one occasion I was not made aware that my a...</td>\n",
       "      <td>45</td>\n",
       "      <td>NaN</td>\n",
       "      <td>NaN</td>\n",
       "    </tr>\n",
       "    <tr>\n",
       "      <th>...</th>\n",
       "      <td>...</td>\n",
       "      <td>...</td>\n",
       "      <td>...</td>\n",
       "      <td>...</td>\n",
       "      <td>...</td>\n",
       "      <td>...</td>\n",
       "      <td>...</td>\n",
       "    </tr>\n",
       "    <tr>\n",
       "      <th>12288</th>\n",
       "      <td>ce</td>\n",
       "      <td>Care received</td>\n",
       "      <td>Emotional care</td>\n",
       "      <td>The last month or so has been traumatising for...</td>\n",
       "      <td>181</td>\n",
       "      <td>NaN</td>\n",
       "      <td>NaN</td>\n",
       "    </tr>\n",
       "    <tr>\n",
       "      <th>12289</th>\n",
       "      <td>cs</td>\n",
       "      <td>Care received</td>\n",
       "      <td>Advice and support</td>\n",
       "      <td>Started to feel unwell with the thoughts aroun...</td>\n",
       "      <td>57</td>\n",
       "      <td>NaN</td>\n",
       "      <td>NaN</td>\n",
       "    </tr>\n",
       "    <tr>\n",
       "      <th>12290</th>\n",
       "      <td>ap</td>\n",
       "      <td>Access</td>\n",
       "      <td>Provision of services</td>\n",
       "      <td>Around this time last year, I made plans to en...</td>\n",
       "      <td>428</td>\n",
       "      <td>NaN</td>\n",
       "      <td>NaN</td>\n",
       "    </tr>\n",
       "    <tr>\n",
       "      <th>12291</th>\n",
       "      <td>sp</td>\n",
       "      <td>Staff</td>\n",
       "      <td>Professionalism/Competence Of Staff</td>\n",
       "      <td>We got assigned Hazel back in 2019 to assist w...</td>\n",
       "      <td>159</td>\n",
       "      <td>NaN</td>\n",
       "      <td>NaN</td>\n",
       "    </tr>\n",
       "    <tr>\n",
       "      <th>12292</th>\n",
       "      <td>cs</td>\n",
       "      <td>Care received</td>\n",
       "      <td>Advice and support</td>\n",
       "      <td>My experience of the team was positive. I was ...</td>\n",
       "      <td>52</td>\n",
       "      <td>NaN</td>\n",
       "      <td>NaN</td>\n",
       "    </tr>\n",
       "  </tbody>\n",
       "</table>\n",
       "<p>12293 rows × 7 columns</p>\n",
       "</div>"
      ],
      "text/plain": [
       "      code                    label                          subcategory  \\\n",
       "0       xn     Couldn't be improved                   Nothing to improve   \n",
       "1       ee  Environment/ facilities              Environment/ facilities   \n",
       "2       ap                   Access                Provision of services   \n",
       "3       mi            Communication        Amount/clarity of information   \n",
       "4       mm            Communication                        Communication   \n",
       "...    ...                      ...                                  ...   \n",
       "12288   ce            Care received                       Emotional care   \n",
       "12289   cs            Care received                   Advice and support   \n",
       "12290   ap                   Access                Provision of services   \n",
       "12291   sp                    Staff  Professionalism/Competence Of Staff   \n",
       "12292   cs            Care received                   Advice and support   \n",
       "\n",
       "                                                feedback  space  \\\n",
       "0                                               Nothing.      0   \n",
       "1                   Temperature in theatre a little low.      5   \n",
       "2       Same service available at Bingham Health Centre.      6   \n",
       "3      Appointment details given over phone - no phys...     26   \n",
       "4      On one occasion I was not made aware that my a...     45   \n",
       "...                                                  ...    ...   \n",
       "12288  The last month or so has been traumatising for...    181   \n",
       "12289  Started to feel unwell with the thoughts aroun...     57   \n",
       "12290  Around this time last year, I made plans to en...    428   \n",
       "12291  We got assigned Hazel back in 2019 to assist w...    159   \n",
       "12292  My experience of the team was positive. I was ...     52   \n",
       "\n",
       "       sentiment_score  sentiment tag  \n",
       "0                  NaN            NaN  \n",
       "1                  NaN            NaN  \n",
       "2                  NaN            NaN  \n",
       "3                  NaN            NaN  \n",
       "4                  NaN            NaN  \n",
       "...                ...            ...  \n",
       "12288              NaN            NaN  \n",
       "12289              NaN            NaN  \n",
       "12290              NaN            NaN  \n",
       "12291              NaN            NaN  \n",
       "12292              NaN            NaN  \n",
       "\n",
       "[12293 rows x 7 columns]"
      ]
     },
     "execution_count": 7,
     "metadata": {},
     "output_type": "execute_result"
    }
   ],
   "source": [
    "comments_data"
   ]
  },
  {
   "cell_type": "code",
   "execution_count": 8,
   "id": "9a7b7b6e-14eb-497b-a841-cc03c08326a3",
   "metadata": {},
   "outputs": [
    {
     "name": "stdout",
     "output_type": "stream",
     "text": [
      "Appointment details given over phone - no physical evidence/reminder which could cause problems. Other than that, nothing apparent, thank you. Service on the day excellent, thank you.\n"
     ]
    },
    {
     "data": {
      "text/plain": [
       "{'neg': 0.27, 'neu': 0.621, 'pos': 0.109, 'compound': -0.5299}"
      ]
     },
     "execution_count": 8,
     "metadata": {},
     "output_type": "execute_result"
    }
   ],
   "source": [
    "# A sentiment example in corpus\n",
    "\n",
    "sentiment_example = comments_data.iloc[3]['feedback']\n",
    "print(sentiment_example)\n",
    "sta.polarity_scores(sentiment_example)"
   ]
  },
  {
   "cell_type": "code",
   "execution_count": 380,
   "id": "3fdcd504-f872-4c8f-87c4-6ad599be1d42",
   "metadata": {},
   "outputs": [],
   "source": [
    "# A iteration of senntiment analysis for all comments in corpus, resulting compound score\n",
    "\n",
    "for index in range(0,12293):\n",
    "    score = sta.polarity_scores(comments_data.iloc[index]['feedback'])\n",
    "    compound = score.get('compound')\n",
    "    comments_data.loc[index, 'sentiment_score'] = compound"
   ]
  },
  {
   "cell_type": "code",
   "execution_count": 381,
   "id": "cd9e18f4-fffd-435a-9f14-9491cde167af",
   "metadata": {},
   "outputs": [
    {
     "data": {
      "text/html": [
       "<div>\n",
       "<style scoped>\n",
       "    .dataframe tbody tr th:only-of-type {\n",
       "        vertical-align: middle;\n",
       "    }\n",
       "\n",
       "    .dataframe tbody tr th {\n",
       "        vertical-align: top;\n",
       "    }\n",
       "\n",
       "    .dataframe thead th {\n",
       "        text-align: right;\n",
       "    }\n",
       "</style>\n",
       "<table border=\"1\" class=\"dataframe\">\n",
       "  <thead>\n",
       "    <tr style=\"text-align: right;\">\n",
       "      <th></th>\n",
       "      <th>code</th>\n",
       "      <th>label</th>\n",
       "      <th>subcategory</th>\n",
       "      <th>feedback</th>\n",
       "      <th>space</th>\n",
       "      <th>sentiment_score</th>\n",
       "      <th>sentiment tag</th>\n",
       "    </tr>\n",
       "  </thead>\n",
       "  <tbody>\n",
       "    <tr>\n",
       "      <th>0</th>\n",
       "      <td>xn</td>\n",
       "      <td>Couldn't be improved</td>\n",
       "      <td>Nothing to improve</td>\n",
       "      <td>Nothing.</td>\n",
       "      <td>0</td>\n",
       "      <td>0.0000</td>\n",
       "      <td>NaN</td>\n",
       "    </tr>\n",
       "    <tr>\n",
       "      <th>1</th>\n",
       "      <td>ee</td>\n",
       "      <td>Environment/ facilities</td>\n",
       "      <td>Environment/ facilities</td>\n",
       "      <td>Temperature in theatre a little low.</td>\n",
       "      <td>5</td>\n",
       "      <td>-0.2040</td>\n",
       "      <td>NaN</td>\n",
       "    </tr>\n",
       "    <tr>\n",
       "      <th>2</th>\n",
       "      <td>ap</td>\n",
       "      <td>Access</td>\n",
       "      <td>Provision of services</td>\n",
       "      <td>Same service available at Bingham Health Centre.</td>\n",
       "      <td>6</td>\n",
       "      <td>0.0000</td>\n",
       "      <td>NaN</td>\n",
       "    </tr>\n",
       "    <tr>\n",
       "      <th>3</th>\n",
       "      <td>mi</td>\n",
       "      <td>Communication</td>\n",
       "      <td>Amount/clarity of information</td>\n",
       "      <td>Appointment details given over phone - no phys...</td>\n",
       "      <td>26</td>\n",
       "      <td>-0.5299</td>\n",
       "      <td>NaN</td>\n",
       "    </tr>\n",
       "    <tr>\n",
       "      <th>4</th>\n",
       "      <td>mm</td>\n",
       "      <td>Communication</td>\n",
       "      <td>Communication</td>\n",
       "      <td>On one occasion I was not made aware that my a...</td>\n",
       "      <td>45</td>\n",
       "      <td>0.3400</td>\n",
       "      <td>NaN</td>\n",
       "    </tr>\n",
       "    <tr>\n",
       "      <th>...</th>\n",
       "      <td>...</td>\n",
       "      <td>...</td>\n",
       "      <td>...</td>\n",
       "      <td>...</td>\n",
       "      <td>...</td>\n",
       "      <td>...</td>\n",
       "      <td>...</td>\n",
       "    </tr>\n",
       "    <tr>\n",
       "      <th>12288</th>\n",
       "      <td>ce</td>\n",
       "      <td>Care received</td>\n",
       "      <td>Emotional care</td>\n",
       "      <td>The last month or so has been traumatising for...</td>\n",
       "      <td>181</td>\n",
       "      <td>0.9491</td>\n",
       "      <td>NaN</td>\n",
       "    </tr>\n",
       "    <tr>\n",
       "      <th>12289</th>\n",
       "      <td>cs</td>\n",
       "      <td>Care received</td>\n",
       "      <td>Advice and support</td>\n",
       "      <td>Started to feel unwell with the thoughts aroun...</td>\n",
       "      <td>57</td>\n",
       "      <td>0.8658</td>\n",
       "      <td>NaN</td>\n",
       "    </tr>\n",
       "    <tr>\n",
       "      <th>12290</th>\n",
       "      <td>ap</td>\n",
       "      <td>Access</td>\n",
       "      <td>Provision of services</td>\n",
       "      <td>Around this time last year, I made plans to en...</td>\n",
       "      <td>428</td>\n",
       "      <td>0.9909</td>\n",
       "      <td>NaN</td>\n",
       "    </tr>\n",
       "    <tr>\n",
       "      <th>12291</th>\n",
       "      <td>sp</td>\n",
       "      <td>Staff</td>\n",
       "      <td>Professionalism/Competence Of Staff</td>\n",
       "      <td>We got assigned Hazel back in 2019 to assist w...</td>\n",
       "      <td>159</td>\n",
       "      <td>0.9724</td>\n",
       "      <td>NaN</td>\n",
       "    </tr>\n",
       "    <tr>\n",
       "      <th>12292</th>\n",
       "      <td>cs</td>\n",
       "      <td>Care received</td>\n",
       "      <td>Advice and support</td>\n",
       "      <td>My experience of the team was positive. I was ...</td>\n",
       "      <td>52</td>\n",
       "      <td>0.7036</td>\n",
       "      <td>NaN</td>\n",
       "    </tr>\n",
       "  </tbody>\n",
       "</table>\n",
       "<p>12293 rows × 7 columns</p>\n",
       "</div>"
      ],
      "text/plain": [
       "      code                    label                          subcategory  \\\n",
       "0       xn     Couldn't be improved                   Nothing to improve   \n",
       "1       ee  Environment/ facilities              Environment/ facilities   \n",
       "2       ap                   Access                Provision of services   \n",
       "3       mi            Communication        Amount/clarity of information   \n",
       "4       mm            Communication                        Communication   \n",
       "...    ...                      ...                                  ...   \n",
       "12288   ce            Care received                       Emotional care   \n",
       "12289   cs            Care received                   Advice and support   \n",
       "12290   ap                   Access                Provision of services   \n",
       "12291   sp                    Staff  Professionalism/Competence Of Staff   \n",
       "12292   cs            Care received                   Advice and support   \n",
       "\n",
       "                                                feedback  space  \\\n",
       "0                                               Nothing.      0   \n",
       "1                   Temperature in theatre a little low.      5   \n",
       "2       Same service available at Bingham Health Centre.      6   \n",
       "3      Appointment details given over phone - no phys...     26   \n",
       "4      On one occasion I was not made aware that my a...     45   \n",
       "...                                                  ...    ...   \n",
       "12288  The last month or so has been traumatising for...    181   \n",
       "12289  Started to feel unwell with the thoughts aroun...     57   \n",
       "12290  Around this time last year, I made plans to en...    428   \n",
       "12291  We got assigned Hazel back in 2019 to assist w...    159   \n",
       "12292  My experience of the team was positive. I was ...     52   \n",
       "\n",
       "       sentiment_score  sentiment tag  \n",
       "0               0.0000            NaN  \n",
       "1              -0.2040            NaN  \n",
       "2               0.0000            NaN  \n",
       "3              -0.5299            NaN  \n",
       "4               0.3400            NaN  \n",
       "...                ...            ...  \n",
       "12288           0.9491            NaN  \n",
       "12289           0.8658            NaN  \n",
       "12290           0.9909            NaN  \n",
       "12291           0.9724            NaN  \n",
       "12292           0.7036            NaN  \n",
       "\n",
       "[12293 rows x 7 columns]"
      ]
     },
     "execution_count": 381,
     "metadata": {},
     "output_type": "execute_result"
    }
   ],
   "source": [
    "comments_data"
   ]
  },
  {
   "cell_type": "code",
   "execution_count": null,
   "id": "c0456fc8-a8a8-4227-9c5c-a57f557f64b3",
   "metadata": {},
   "outputs": [],
   "source": [
    "positive：compound >= 0.05\n",
    "neatual：(compound > -0.05) and (compound < 0.05)\n",
    "negative：compound <= -0.05"
   ]
  },
  {
   "cell_type": "code",
   "execution_count": 382,
   "id": "59d726bd-4115-4cf1-861b-3ab26393d05a",
   "metadata": {},
   "outputs": [],
   "source": [
    "# A iteration for assign sentiment tag to every comment in corpus according to compound score\n",
    "\n",
    "for index in range(0,12293):\n",
    "    if comments_data.iloc[index]['sentiment_score'] >= 0.05:\n",
    "        comments_data.loc[index, 'sentiment tag'] = 'pos'\n",
    "    if (comments_data.iloc[index]['sentiment_score'] > -0.05) and (comments_data.iloc[index]['sentiment_score'] < 0.05):\n",
    "        comments_data.loc[index, 'sentiment tag'] = 'neu'\n",
    "    if comments_data.iloc[index]['sentiment_score'] <= -0.05:\n",
    "        comments_data.loc[index, 'sentiment tag'] = 'neg'"
   ]
  },
  {
   "cell_type": "code",
   "execution_count": 383,
   "id": "8cf280c0-1baf-464e-8ef3-9c3899862cd0",
   "metadata": {},
   "outputs": [
    {
     "data": {
      "text/html": [
       "<div>\n",
       "<style scoped>\n",
       "    .dataframe tbody tr th:only-of-type {\n",
       "        vertical-align: middle;\n",
       "    }\n",
       "\n",
       "    .dataframe tbody tr th {\n",
       "        vertical-align: top;\n",
       "    }\n",
       "\n",
       "    .dataframe thead th {\n",
       "        text-align: right;\n",
       "    }\n",
       "</style>\n",
       "<table border=\"1\" class=\"dataframe\">\n",
       "  <thead>\n",
       "    <tr style=\"text-align: right;\">\n",
       "      <th></th>\n",
       "      <th>code</th>\n",
       "      <th>label</th>\n",
       "      <th>subcategory</th>\n",
       "      <th>feedback</th>\n",
       "      <th>space</th>\n",
       "      <th>sentiment_score</th>\n",
       "      <th>sentiment tag</th>\n",
       "    </tr>\n",
       "  </thead>\n",
       "  <tbody>\n",
       "    <tr>\n",
       "      <th>0</th>\n",
       "      <td>xn</td>\n",
       "      <td>Couldn't be improved</td>\n",
       "      <td>Nothing to improve</td>\n",
       "      <td>Nothing.</td>\n",
       "      <td>0</td>\n",
       "      <td>0.0000</td>\n",
       "      <td>neu</td>\n",
       "    </tr>\n",
       "    <tr>\n",
       "      <th>1</th>\n",
       "      <td>ee</td>\n",
       "      <td>Environment/ facilities</td>\n",
       "      <td>Environment/ facilities</td>\n",
       "      <td>Temperature in theatre a little low.</td>\n",
       "      <td>5</td>\n",
       "      <td>-0.2040</td>\n",
       "      <td>neg</td>\n",
       "    </tr>\n",
       "    <tr>\n",
       "      <th>2</th>\n",
       "      <td>ap</td>\n",
       "      <td>Access</td>\n",
       "      <td>Provision of services</td>\n",
       "      <td>Same service available at Bingham Health Centre.</td>\n",
       "      <td>6</td>\n",
       "      <td>0.0000</td>\n",
       "      <td>neu</td>\n",
       "    </tr>\n",
       "    <tr>\n",
       "      <th>3</th>\n",
       "      <td>mi</td>\n",
       "      <td>Communication</td>\n",
       "      <td>Amount/clarity of information</td>\n",
       "      <td>Appointment details given over phone - no phys...</td>\n",
       "      <td>26</td>\n",
       "      <td>-0.5299</td>\n",
       "      <td>neg</td>\n",
       "    </tr>\n",
       "    <tr>\n",
       "      <th>4</th>\n",
       "      <td>mm</td>\n",
       "      <td>Communication</td>\n",
       "      <td>Communication</td>\n",
       "      <td>On one occasion I was not made aware that my a...</td>\n",
       "      <td>45</td>\n",
       "      <td>0.3400</td>\n",
       "      <td>pos</td>\n",
       "    </tr>\n",
       "    <tr>\n",
       "      <th>...</th>\n",
       "      <td>...</td>\n",
       "      <td>...</td>\n",
       "      <td>...</td>\n",
       "      <td>...</td>\n",
       "      <td>...</td>\n",
       "      <td>...</td>\n",
       "      <td>...</td>\n",
       "    </tr>\n",
       "    <tr>\n",
       "      <th>12288</th>\n",
       "      <td>ce</td>\n",
       "      <td>Care received</td>\n",
       "      <td>Emotional care</td>\n",
       "      <td>The last month or so has been traumatising for...</td>\n",
       "      <td>181</td>\n",
       "      <td>0.9491</td>\n",
       "      <td>pos</td>\n",
       "    </tr>\n",
       "    <tr>\n",
       "      <th>12289</th>\n",
       "      <td>cs</td>\n",
       "      <td>Care received</td>\n",
       "      <td>Advice and support</td>\n",
       "      <td>Started to feel unwell with the thoughts aroun...</td>\n",
       "      <td>57</td>\n",
       "      <td>0.8658</td>\n",
       "      <td>pos</td>\n",
       "    </tr>\n",
       "    <tr>\n",
       "      <th>12290</th>\n",
       "      <td>ap</td>\n",
       "      <td>Access</td>\n",
       "      <td>Provision of services</td>\n",
       "      <td>Around this time last year, I made plans to en...</td>\n",
       "      <td>428</td>\n",
       "      <td>0.9909</td>\n",
       "      <td>pos</td>\n",
       "    </tr>\n",
       "    <tr>\n",
       "      <th>12291</th>\n",
       "      <td>sp</td>\n",
       "      <td>Staff</td>\n",
       "      <td>Professionalism/Competence Of Staff</td>\n",
       "      <td>We got assigned Hazel back in 2019 to assist w...</td>\n",
       "      <td>159</td>\n",
       "      <td>0.9724</td>\n",
       "      <td>pos</td>\n",
       "    </tr>\n",
       "    <tr>\n",
       "      <th>12292</th>\n",
       "      <td>cs</td>\n",
       "      <td>Care received</td>\n",
       "      <td>Advice and support</td>\n",
       "      <td>My experience of the team was positive. I was ...</td>\n",
       "      <td>52</td>\n",
       "      <td>0.7036</td>\n",
       "      <td>pos</td>\n",
       "    </tr>\n",
       "  </tbody>\n",
       "</table>\n",
       "<p>12293 rows × 7 columns</p>\n",
       "</div>"
      ],
      "text/plain": [
       "      code                    label                          subcategory  \\\n",
       "0       xn     Couldn't be improved                   Nothing to improve   \n",
       "1       ee  Environment/ facilities              Environment/ facilities   \n",
       "2       ap                   Access                Provision of services   \n",
       "3       mi            Communication        Amount/clarity of information   \n",
       "4       mm            Communication                        Communication   \n",
       "...    ...                      ...                                  ...   \n",
       "12288   ce            Care received                       Emotional care   \n",
       "12289   cs            Care received                   Advice and support   \n",
       "12290   ap                   Access                Provision of services   \n",
       "12291   sp                    Staff  Professionalism/Competence Of Staff   \n",
       "12292   cs            Care received                   Advice and support   \n",
       "\n",
       "                                                feedback  space  \\\n",
       "0                                               Nothing.      0   \n",
       "1                   Temperature in theatre a little low.      5   \n",
       "2       Same service available at Bingham Health Centre.      6   \n",
       "3      Appointment details given over phone - no phys...     26   \n",
       "4      On one occasion I was not made aware that my a...     45   \n",
       "...                                                  ...    ...   \n",
       "12288  The last month or so has been traumatising for...    181   \n",
       "12289  Started to feel unwell with the thoughts aroun...     57   \n",
       "12290  Around this time last year, I made plans to en...    428   \n",
       "12291  We got assigned Hazel back in 2019 to assist w...    159   \n",
       "12292  My experience of the team was positive. I was ...     52   \n",
       "\n",
       "       sentiment_score sentiment tag  \n",
       "0               0.0000           neu  \n",
       "1              -0.2040           neg  \n",
       "2               0.0000           neu  \n",
       "3              -0.5299           neg  \n",
       "4               0.3400           pos  \n",
       "...                ...           ...  \n",
       "12288           0.9491           pos  \n",
       "12289           0.8658           pos  \n",
       "12290           0.9909           pos  \n",
       "12291           0.9724           pos  \n",
       "12292           0.7036           pos  \n",
       "\n",
       "[12293 rows x 7 columns]"
      ]
     },
     "execution_count": 383,
     "metadata": {},
     "output_type": "execute_result"
    }
   ],
   "source": [
    "comments_data"
   ]
  },
  {
   "cell_type": "code",
   "execution_count": 384,
   "id": "e60da53d-847a-4c1c-80ad-5e09bbcba913",
   "metadata": {},
   "outputs": [],
   "source": [
    "comments_data.to_csv('All_Data_Sentiment.csv')"
   ]
  },
  {
   "cell_type": "code",
   "execution_count": 385,
   "id": "067f03a4-6ecb-4d76-88e8-a443825d4077",
   "metadata": {},
   "outputs": [],
   "source": [
    "# Use code to locate comments of every subcategory\n",
    "\n",
    "aa_comments = comments_data.loc[comments_data['code'] == 'aa']"
   ]
  },
  {
   "cell_type": "code",
   "execution_count": 386,
   "id": "74dadaaf-27aa-4aba-a17e-c8d3fb32f388",
   "metadata": {},
   "outputs": [
    {
     "data": {
      "text/html": [
       "<div>\n",
       "<style scoped>\n",
       "    .dataframe tbody tr th:only-of-type {\n",
       "        vertical-align: middle;\n",
       "    }\n",
       "\n",
       "    .dataframe tbody tr th {\n",
       "        vertical-align: top;\n",
       "    }\n",
       "\n",
       "    .dataframe thead th {\n",
       "        text-align: right;\n",
       "    }\n",
       "</style>\n",
       "<table border=\"1\" class=\"dataframe\">\n",
       "  <thead>\n",
       "    <tr style=\"text-align: right;\">\n",
       "      <th></th>\n",
       "      <th>code</th>\n",
       "      <th>label</th>\n",
       "      <th>subcategory</th>\n",
       "      <th>feedback</th>\n",
       "      <th>space</th>\n",
       "      <th>sentiment_score</th>\n",
       "      <th>sentiment tag</th>\n",
       "    </tr>\n",
       "  </thead>\n",
       "  <tbody>\n",
       "    <tr>\n",
       "      <th>35</th>\n",
       "      <td>aa</td>\n",
       "      <td>Access</td>\n",
       "      <td>General</td>\n",
       "      <td>I am begging for help with my child’s behaviou...</td>\n",
       "      <td>23</td>\n",
       "      <td>0.5994</td>\n",
       "      <td>pos</td>\n",
       "    </tr>\n",
       "    <tr>\n",
       "      <th>44</th>\n",
       "      <td>aa</td>\n",
       "      <td>Access</td>\n",
       "      <td>General</td>\n",
       "      <td>Just how to enter new people into the group.</td>\n",
       "      <td>8</td>\n",
       "      <td>0.0000</td>\n",
       "      <td>neu</td>\n",
       "    </tr>\n",
       "    <tr>\n",
       "      <th>110</th>\n",
       "      <td>aa</td>\n",
       "      <td>Access</td>\n",
       "      <td>General</td>\n",
       "      <td>Weekly or 2 weekly meetings.</td>\n",
       "      <td>5</td>\n",
       "      <td>0.0000</td>\n",
       "      <td>neu</td>\n",
       "    </tr>\n",
       "    <tr>\n",
       "      <th>120</th>\n",
       "      <td>aa</td>\n",
       "      <td>Access</td>\n",
       "      <td>General</td>\n",
       "      <td>Due to COVID we have had very little contact w...</td>\n",
       "      <td>12</td>\n",
       "      <td>0.0000</td>\n",
       "      <td>neu</td>\n",
       "    </tr>\n",
       "    <tr>\n",
       "      <th>178</th>\n",
       "      <td>aa</td>\n",
       "      <td>Access</td>\n",
       "      <td>General</td>\n",
       "      <td>Carry on a bit longer.</td>\n",
       "      <td>4</td>\n",
       "      <td>0.0000</td>\n",
       "      <td>neu</td>\n",
       "    </tr>\n",
       "    <tr>\n",
       "      <th>...</th>\n",
       "      <td>...</td>\n",
       "      <td>...</td>\n",
       "      <td>...</td>\n",
       "      <td>...</td>\n",
       "      <td>...</td>\n",
       "      <td>...</td>\n",
       "      <td>...</td>\n",
       "    </tr>\n",
       "    <tr>\n",
       "      <th>12150</th>\n",
       "      <td>aa</td>\n",
       "      <td>Access</td>\n",
       "      <td>General</td>\n",
       "      <td>My dad was a patient on Rowan 1 recently. I we...</td>\n",
       "      <td>1463</td>\n",
       "      <td>-0.9956</td>\n",
       "      <td>neg</td>\n",
       "    </tr>\n",
       "    <tr>\n",
       "      <th>12164</th>\n",
       "      <td>aa</td>\n",
       "      <td>Access</td>\n",
       "      <td>General</td>\n",
       "      <td>I phoned yesterday to local mental health team...</td>\n",
       "      <td>230</td>\n",
       "      <td>-0.6398</td>\n",
       "      <td>neg</td>\n",
       "    </tr>\n",
       "    <tr>\n",
       "      <th>12177</th>\n",
       "      <td>aa</td>\n",
       "      <td>Access</td>\n",
       "      <td>General</td>\n",
       "      <td>I routinely have difficulty contacting the Sto...</td>\n",
       "      <td>181</td>\n",
       "      <td>0.2023</td>\n",
       "      <td>pos</td>\n",
       "    </tr>\n",
       "    <tr>\n",
       "      <th>12205</th>\n",
       "      <td>aa</td>\n",
       "      <td>Access</td>\n",
       "      <td>General</td>\n",
       "      <td>Due to the virus I was unable to attend the se...</td>\n",
       "      <td>78</td>\n",
       "      <td>0.6808</td>\n",
       "      <td>pos</td>\n",
       "    </tr>\n",
       "    <tr>\n",
       "      <th>12273</th>\n",
       "      <td>aa</td>\n",
       "      <td>Access</td>\n",
       "      <td>General</td>\n",
       "      <td>I would like to enquire on behalf of the patie...</td>\n",
       "      <td>69</td>\n",
       "      <td>0.6258</td>\n",
       "      <td>pos</td>\n",
       "    </tr>\n",
       "  </tbody>\n",
       "</table>\n",
       "<p>89 rows × 7 columns</p>\n",
       "</div>"
      ],
      "text/plain": [
       "      code   label subcategory  \\\n",
       "35      aa  Access     General   \n",
       "44      aa  Access     General   \n",
       "110     aa  Access     General   \n",
       "120     aa  Access     General   \n",
       "178     aa  Access     General   \n",
       "...    ...     ...         ...   \n",
       "12150   aa  Access     General   \n",
       "12164   aa  Access     General   \n",
       "12177   aa  Access     General   \n",
       "12205   aa  Access     General   \n",
       "12273   aa  Access     General   \n",
       "\n",
       "                                                feedback  space  \\\n",
       "35     I am begging for help with my child’s behaviou...     23   \n",
       "44          Just how to enter new people into the group.      8   \n",
       "110                        Weekly or 2 weekly meetings.       5   \n",
       "120    Due to COVID we have had very little contact w...     12   \n",
       "178                               Carry on a bit longer.      4   \n",
       "...                                                  ...    ...   \n",
       "12150  My dad was a patient on Rowan 1 recently. I we...   1463   \n",
       "12164  I phoned yesterday to local mental health team...    230   \n",
       "12177  I routinely have difficulty contacting the Sto...    181   \n",
       "12205  Due to the virus I was unable to attend the se...     78   \n",
       "12273  I would like to enquire on behalf of the patie...     69   \n",
       "\n",
       "       sentiment_score sentiment tag  \n",
       "35              0.5994           pos  \n",
       "44              0.0000           neu  \n",
       "110             0.0000           neu  \n",
       "120             0.0000           neu  \n",
       "178             0.0000           neu  \n",
       "...                ...           ...  \n",
       "12150          -0.9956           neg  \n",
       "12164          -0.6398           neg  \n",
       "12177           0.2023           pos  \n",
       "12205           0.6808           pos  \n",
       "12273           0.6258           pos  \n",
       "\n",
       "[89 rows x 7 columns]"
      ]
     },
     "execution_count": 386,
     "metadata": {},
     "output_type": "execute_result"
    }
   ],
   "source": [
    "aa_comments"
   ]
  },
  {
   "cell_type": "code",
   "execution_count": 387,
   "id": "1cac4b1c-27fc-4f39-95dc-ddb550a16c7c",
   "metadata": {},
   "outputs": [
    {
     "name": "stdout",
     "output_type": "stream",
     "text": [
      "39\n",
      "24\n",
      "26\n"
     ]
    }
   ],
   "source": [
    "# Use sentiment tag to calculate the amount of 3 kinds of comments under every subcategory\n",
    "\n",
    "print(aa_comments.loc[comments_data['sentiment tag'] == 'pos'].shape[0])\n",
    "print(aa_comments.loc[comments_data['sentiment tag'] == 'neu'].shape[0])\n",
    "print(aa_comments.loc[comments_data['sentiment tag'] == 'neg'].shape[0])"
   ]
  },
  {
   "cell_type": "code",
   "execution_count": 301,
   "id": "eb947983-20f9-4c23-b1b2-914603e0c1e8",
   "metadata": {},
   "outputs": [
    {
     "data": {
      "text/plain": [
       "25"
      ]
     },
     "execution_count": 301,
     "metadata": {},
     "output_type": "execute_result"
    }
   ],
   "source": [
    "al_comments = comments_data.loc[comments_data['code'] == 'al']\n",
    "al_comments.shape[0]"
   ]
  },
  {
   "cell_type": "code",
   "execution_count": 302,
   "id": "9a702bff-12d4-4498-9c0e-cf64db867ea6",
   "metadata": {},
   "outputs": [
    {
     "name": "stdout",
     "output_type": "stream",
     "text": [
      "9\n",
      "11\n",
      "5\n"
     ]
    }
   ],
   "source": [
    "print(al_comments.loc[comments_data['sentiment tag'] == 'pos'].shape[0])\n",
    "print(al_comments.loc[comments_data['sentiment tag'] == 'neu'].shape[0])\n",
    "print(al_comments.loc[comments_data['sentiment tag'] == 'neg'].shape[0])"
   ]
  },
  {
   "cell_type": "code",
   "execution_count": 303,
   "id": "15661b8a-c61a-49e9-a8de-e526f7c85251",
   "metadata": {},
   "outputs": [
    {
     "data": {
      "text/plain": [
       "201"
      ]
     },
     "execution_count": 303,
     "metadata": {},
     "output_type": "execute_result"
    }
   ],
   "source": [
    "ap_comments = comments_data.loc[comments_data['code'] == 'ap']\n",
    "ap_comments.shape[0]"
   ]
  },
  {
   "cell_type": "code",
   "execution_count": 304,
   "id": "d7134f1f-4a4c-4ae4-b7cd-cdb9fe19a814",
   "metadata": {},
   "outputs": [
    {
     "name": "stdout",
     "output_type": "stream",
     "text": [
      "99\n",
      "56\n",
      "46\n"
     ]
    }
   ],
   "source": [
    "print(ap_comments.loc[comments_data['sentiment tag'] == 'pos'].shape[0])\n",
    "print(ap_comments.loc[comments_data['sentiment tag'] == 'neu'].shape[0])\n",
    "print(ap_comments.loc[comments_data['sentiment tag'] == 'neg'].shape[0])"
   ]
  },
  {
   "cell_type": "code",
   "execution_count": 305,
   "id": "07d6e9ce-f66c-4099-bdde-08c18bd21f60",
   "metadata": {},
   "outputs": [
    {
     "data": {
      "text/plain": [
       "247"
      ]
     },
     "execution_count": 305,
     "metadata": {},
     "output_type": "execute_result"
    }
   ],
   "source": [
    "ca_comments = comments_data.loc[comments_data['code'] == 'ca']\n",
    "ca_comments.shape[0]"
   ]
  },
  {
   "cell_type": "code",
   "execution_count": 306,
   "id": "963b4141-190e-4e23-b6d8-1c257e5de30b",
   "metadata": {},
   "outputs": [
    {
     "name": "stdout",
     "output_type": "stream",
     "text": [
      "216\n",
      "26\n",
      "5\n"
     ]
    }
   ],
   "source": [
    "print(ca_comments.loc[comments_data['sentiment tag'] == 'pos'].shape[0])\n",
    "print(ca_comments.loc[comments_data['sentiment tag'] == 'neu'].shape[0])\n",
    "print(ca_comments.loc[comments_data['sentiment tag'] == 'neg'].shape[0])"
   ]
  },
  {
   "cell_type": "code",
   "execution_count": 307,
   "id": "6fbee88c-3039-4fad-876a-3e14afc20ff1",
   "metadata": {},
   "outputs": [
    {
     "data": {
      "text/plain": [
       "2370"
      ]
     },
     "execution_count": 307,
     "metadata": {},
     "output_type": "execute_result"
    }
   ],
   "source": [
    "cc_comments = comments_data.loc[comments_data['code'] == 'cc']\n",
    "cc_comments.shape[0]"
   ]
  },
  {
   "cell_type": "code",
   "execution_count": 308,
   "id": "a2b409be-bfcd-43e4-8d79-4a92137a0746",
   "metadata": {},
   "outputs": [
    {
     "name": "stdout",
     "output_type": "stream",
     "text": [
      "2056\n",
      "197\n",
      "117\n"
     ]
    }
   ],
   "source": [
    "print(cc_comments.loc[comments_data['sentiment tag'] == 'pos'].shape[0])\n",
    "print(cc_comments.loc[comments_data['sentiment tag'] == 'neu'].shape[0])\n",
    "print(cc_comments.loc[comments_data['sentiment tag'] == 'neg'].shape[0])"
   ]
  },
  {
   "cell_type": "code",
   "execution_count": 309,
   "id": "016a1661-d0fa-46b7-8ce8-04a14d40d20a",
   "metadata": {},
   "outputs": [
    {
     "data": {
      "text/plain": [
       "230"
      ]
     },
     "execution_count": 309,
     "metadata": {},
     "output_type": "execute_result"
    }
   ],
   "source": [
    "ce_comments = comments_data.loc[comments_data['code'] == 'ce']\n",
    "ce_comments.shape[0]"
   ]
  },
  {
   "cell_type": "code",
   "execution_count": 310,
   "id": "79603395-251c-482c-b4ec-2a113812202b",
   "metadata": {},
   "outputs": [
    {
     "name": "stdout",
     "output_type": "stream",
     "text": [
      "208\n",
      "11\n",
      "11\n"
     ]
    }
   ],
   "source": [
    "print(ce_comments.loc[comments_data['sentiment tag'] == 'pos'].shape[0])\n",
    "print(ce_comments.loc[comments_data['sentiment tag'] == 'neu'].shape[0])\n",
    "print(ce_comments.loc[comments_data['sentiment tag'] == 'neg'].shape[0])"
   ]
  },
  {
   "cell_type": "code",
   "execution_count": 311,
   "id": "1a38f2c2-9f57-4b18-a59b-3b37e7561de9",
   "metadata": {},
   "outputs": [
    {
     "data": {
      "text/plain": [
       "47"
      ]
     },
     "execution_count": 311,
     "metadata": {},
     "output_type": "execute_result"
    }
   ],
   "source": [
    "cf_comments = comments_data.loc[comments_data['code'] == 'cf']\n",
    "cf_comments.shape[0]"
   ]
  },
  {
   "cell_type": "code",
   "execution_count": 312,
   "id": "b53e5b7d-5653-47da-8443-01684446f37b",
   "metadata": {},
   "outputs": [
    {
     "name": "stdout",
     "output_type": "stream",
     "text": [
      "39\n",
      "3\n",
      "5\n"
     ]
    }
   ],
   "source": [
    "print(cf_comments.loc[comments_data['sentiment tag'] == 'pos'].shape[0])\n",
    "print(cf_comments.loc[comments_data['sentiment tag'] == 'neu'].shape[0])\n",
    "print(cf_comments.loc[comments_data['sentiment tag'] == 'neg'].shape[0])"
   ]
  },
  {
   "cell_type": "code",
   "execution_count": 313,
   "id": "1030ee35-fbcb-418f-ad1f-eb0e2d5ca825",
   "metadata": {},
   "outputs": [
    {
     "data": {
      "text/plain": [
       "141"
      ]
     },
     "execution_count": 313,
     "metadata": {},
     "output_type": "execute_result"
    }
   ],
   "source": [
    "cl_comments = comments_data.loc[comments_data['code'] == 'cl']\n",
    "cl_comments.shape[0]"
   ]
  },
  {
   "cell_type": "code",
   "execution_count": 314,
   "id": "a5d1d331-c77f-4755-bbd5-4b53f99fb48d",
   "metadata": {},
   "outputs": [
    {
     "name": "stdout",
     "output_type": "stream",
     "text": [
      "123\n",
      "6\n",
      "12\n"
     ]
    }
   ],
   "source": [
    "print(cl_comments.loc[comments_data['sentiment tag'] == 'pos'].shape[0])\n",
    "print(cl_comments.loc[comments_data['sentiment tag'] == 'neu'].shape[0])\n",
    "print(cl_comments.loc[comments_data['sentiment tag'] == 'neg'].shape[0])"
   ]
  },
  {
   "cell_type": "code",
   "execution_count": 315,
   "id": "cb7550f8-a34c-4883-960d-791f32c6351a",
   "metadata": {},
   "outputs": [
    {
     "data": {
      "text/plain": [
       "78"
      ]
     },
     "execution_count": 315,
     "metadata": {},
     "output_type": "execute_result"
    }
   ],
   "source": [
    "cm_comments = comments_data.loc[comments_data['code'] == 'cm']\n",
    "cm_comments.shape[0]"
   ]
  },
  {
   "cell_type": "code",
   "execution_count": 316,
   "id": "9ecf3ea1-10c3-43f5-b2fa-f5de4eddcc3b",
   "metadata": {},
   "outputs": [
    {
     "name": "stdout",
     "output_type": "stream",
     "text": [
      "28\n",
      "28\n",
      "22\n"
     ]
    }
   ],
   "source": [
    "print(cm_comments.loc[comments_data['sentiment tag'] == 'pos'].shape[0])\n",
    "print(cm_comments.loc[comments_data['sentiment tag'] == 'neu'].shape[0])\n",
    "print(cm_comments.loc[comments_data['sentiment tag'] == 'neg'].shape[0])"
   ]
  },
  {
   "cell_type": "code",
   "execution_count": 317,
   "id": "60d64dbd-257b-4da6-8b95-9e3ca35707c0",
   "metadata": {},
   "outputs": [
    {
     "data": {
      "text/plain": [
       "91"
      ]
     },
     "execution_count": 317,
     "metadata": {},
     "output_type": "execute_result"
    }
   ],
   "source": [
    "co_comments = comments_data.loc[comments_data['code'] == 'co']\n",
    "co_comments.shape[0]"
   ]
  },
  {
   "cell_type": "code",
   "execution_count": 318,
   "id": "7bef5cc4-901a-44e2-b298-4c999d8b5b90",
   "metadata": {},
   "outputs": [
    {
     "name": "stdout",
     "output_type": "stream",
     "text": [
      "63\n",
      "19\n",
      "9\n"
     ]
    }
   ],
   "source": [
    "print(co_comments.loc[comments_data['sentiment tag'] == 'pos'].shape[0])\n",
    "print(co_comments.loc[comments_data['sentiment tag'] == 'neu'].shape[0])\n",
    "print(co_comments.loc[comments_data['sentiment tag'] == 'neg'].shape[0])"
   ]
  },
  {
   "cell_type": "code",
   "execution_count": 319,
   "id": "1d31180f-4f41-4748-b162-9c9e994b1b64",
   "metadata": {},
   "outputs": [
    {
     "data": {
      "text/plain": [
       "117"
      ]
     },
     "execution_count": 319,
     "metadata": {},
     "output_type": "execute_result"
    }
   ],
   "source": [
    "cp_comments = comments_data.loc[comments_data['code'] == 'cp']\n",
    "cp_comments.shape[0]"
   ]
  },
  {
   "cell_type": "code",
   "execution_count": 320,
   "id": "0a4d59e5-3ab1-4d3e-9835-708c16808bdc",
   "metadata": {},
   "outputs": [
    {
     "name": "stdout",
     "output_type": "stream",
     "text": [
      "78\n",
      "15\n",
      "24\n"
     ]
    }
   ],
   "source": [
    "print(cp_comments.loc[comments_data['sentiment tag'] == 'pos'].shape[0])\n",
    "print(cp_comments.loc[comments_data['sentiment tag'] == 'neu'].shape[0])\n",
    "print(cp_comments.loc[comments_data['sentiment tag'] == 'neg'].shape[0])"
   ]
  },
  {
   "cell_type": "code",
   "execution_count": 321,
   "id": "78248471-3a32-405e-aff0-32c0d036eb51",
   "metadata": {},
   "outputs": [
    {
     "data": {
      "text/plain": [
       "321"
      ]
     },
     "execution_count": 321,
     "metadata": {},
     "output_type": "execute_result"
    }
   ],
   "source": [
    "cr_comments = comments_data.loc[comments_data['code'] == 'cr']\n",
    "cr_comments.shape[0]"
   ]
  },
  {
   "cell_type": "code",
   "execution_count": 322,
   "id": "e3665e3d-7f93-473a-83eb-02d28907cf5f",
   "metadata": {},
   "outputs": [
    {
     "name": "stdout",
     "output_type": "stream",
     "text": [
      "235\n",
      "39\n",
      "47\n"
     ]
    }
   ],
   "source": [
    "print(cr_comments.loc[comments_data['sentiment tag'] == 'pos'].shape[0])\n",
    "print(cr_comments.loc[comments_data['sentiment tag'] == 'neu'].shape[0])\n",
    "print(cr_comments.loc[comments_data['sentiment tag'] == 'neg'].shape[0])"
   ]
  },
  {
   "cell_type": "code",
   "execution_count": 323,
   "id": "8002ef68-e0ba-4fac-a800-e4ddc77735a1",
   "metadata": {},
   "outputs": [
    {
     "data": {
      "text/plain": [
       "669"
      ]
     },
     "execution_count": 323,
     "metadata": {},
     "output_type": "execute_result"
    }
   ],
   "source": [
    "cs_comments = comments_data.loc[comments_data['code'] == 'cs']\n",
    "cs_comments.shape[0]"
   ]
  },
  {
   "cell_type": "code",
   "execution_count": 324,
   "id": "978dae33-4288-4467-b5bb-bf852d777db8",
   "metadata": {},
   "outputs": [
    {
     "name": "stdout",
     "output_type": "stream",
     "text": [
      "621\n",
      "24\n",
      "24\n"
     ]
    }
   ],
   "source": [
    "print(cs_comments.loc[comments_data['sentiment tag'] == 'pos'].shape[0])\n",
    "print(cs_comments.loc[comments_data['sentiment tag'] == 'neu'].shape[0])\n",
    "print(cs_comments.loc[comments_data['sentiment tag'] == 'neg'].shape[0])"
   ]
  },
  {
   "cell_type": "code",
   "execution_count": 325,
   "id": "00d11525-1374-4337-a69e-fc6d96fa7075",
   "metadata": {},
   "outputs": [
    {
     "data": {
      "text/plain": [
       "87"
      ]
     },
     "execution_count": 325,
     "metadata": {},
     "output_type": "execute_result"
    }
   ],
   "source": [
    "ct_comments = comments_data.loc[comments_data['code'] == 'ct']\n",
    "ct_comments.shape[0]"
   ]
  },
  {
   "cell_type": "code",
   "execution_count": 326,
   "id": "5eebfd1d-bc09-40ab-8e2a-97f158e664c5",
   "metadata": {},
   "outputs": [
    {
     "name": "stdout",
     "output_type": "stream",
     "text": [
      "76\n",
      "7\n",
      "4\n"
     ]
    }
   ],
   "source": [
    "print(ct_comments.loc[comments_data['sentiment tag'] == 'pos'].shape[0])\n",
    "print(ct_comments.loc[comments_data['sentiment tag'] == 'neu'].shape[0])\n",
    "print(ct_comments.loc[comments_data['sentiment tag'] == 'neg'].shape[0])"
   ]
  },
  {
   "cell_type": "code",
   "execution_count": 327,
   "id": "d1ea0271-d843-4433-87d0-05c2e280b06d",
   "metadata": {},
   "outputs": [
    {
     "data": {
      "text/plain": [
       "70"
      ]
     },
     "execution_count": 327,
     "metadata": {},
     "output_type": "execute_result"
    }
   ],
   "source": [
    "da_comments = comments_data.loc[comments_data['code'] == 'da']\n",
    "da_comments.shape[0]"
   ]
  },
  {
   "cell_type": "code",
   "execution_count": 328,
   "id": "77f3744a-b594-484f-893d-3f597373c0b5",
   "metadata": {},
   "outputs": [
    {
     "name": "stdout",
     "output_type": "stream",
     "text": [
      "49\n",
      "6\n",
      "15\n"
     ]
    }
   ],
   "source": [
    "print(da_comments.loc[comments_data['sentiment tag'] == 'pos'].shape[0])\n",
    "print(da_comments.loc[comments_data['sentiment tag'] == 'neu'].shape[0])\n",
    "print(da_comments.loc[comments_data['sentiment tag'] == 'neg'].shape[0])"
   ]
  },
  {
   "cell_type": "code",
   "execution_count": 329,
   "id": "430a7ebf-9052-4a28-ac53-7db446d58256",
   "metadata": {},
   "outputs": [
    {
     "data": {
      "text/plain": [
       "7"
      ]
     },
     "execution_count": 329,
     "metadata": {},
     "output_type": "execute_result"
    }
   ],
   "source": [
    "dc_comments = comments_data.loc[comments_data['code'] == 'dc']\n",
    "dc_comments.shape[0]"
   ]
  },
  {
   "cell_type": "code",
   "execution_count": 330,
   "id": "9b2d3f55-db1b-4183-b69b-56f17755dc2f",
   "metadata": {},
   "outputs": [
    {
     "name": "stdout",
     "output_type": "stream",
     "text": [
      "7\n",
      "0\n",
      "0\n"
     ]
    }
   ],
   "source": [
    "print(dc_comments.loc[comments_data['sentiment tag'] == 'pos'].shape[0])\n",
    "print(dc_comments.loc[comments_data['sentiment tag'] == 'neu'].shape[0])\n",
    "print(dc_comments.loc[comments_data['sentiment tag'] == 'neg'].shape[0])"
   ]
  },
  {
   "cell_type": "code",
   "execution_count": 331,
   "id": "cea10f0e-7a1e-42ed-9f74-89e3875f6a49",
   "metadata": {},
   "outputs": [
    {
     "data": {
      "text/plain": [
       "33"
      ]
     },
     "execution_count": 331,
     "metadata": {},
     "output_type": "execute_result"
    }
   ],
   "source": [
    "dd_comments = comments_data.loc[comments_data['code'] == 'dd']\n",
    "dd_comments.shape[0]"
   ]
  },
  {
   "cell_type": "code",
   "execution_count": 332,
   "id": "4d1aeb85-b826-4ab9-a054-cf583763c8a2",
   "metadata": {},
   "outputs": [
    {
     "name": "stdout",
     "output_type": "stream",
     "text": [
      "27\n",
      "1\n",
      "5\n"
     ]
    }
   ],
   "source": [
    "print(dd_comments.loc[comments_data['sentiment tag'] == 'pos'].shape[0])\n",
    "print(dd_comments.loc[comments_data['sentiment tag'] == 'neu'].shape[0])\n",
    "print(dd_comments.loc[comments_data['sentiment tag'] == 'neg'].shape[0])"
   ]
  },
  {
   "cell_type": "code",
   "execution_count": 333,
   "id": "893b363f-4c52-413e-81b9-02ef1fb3ea07",
   "metadata": {},
   "outputs": [
    {
     "data": {
      "text/plain": [
       "57"
      ]
     },
     "execution_count": 333,
     "metadata": {},
     "output_type": "execute_result"
    }
   ],
   "source": [
    "dp_comments = comments_data.loc[comments_data['code'] == 'dp']\n",
    "dp_comments.shape[0]"
   ]
  },
  {
   "cell_type": "code",
   "execution_count": 334,
   "id": "443b8228-7346-4813-b3a0-276a801bc1ba",
   "metadata": {},
   "outputs": [
    {
     "name": "stdout",
     "output_type": "stream",
     "text": [
      "45\n",
      "7\n",
      "5\n"
     ]
    }
   ],
   "source": [
    "print(dp_comments.loc[comments_data['sentiment tag'] == 'pos'].shape[0])\n",
    "print(dp_comments.loc[comments_data['sentiment tag'] == 'neu'].shape[0])\n",
    "print(dp_comments.loc[comments_data['sentiment tag'] == 'neg'].shape[0])"
   ]
  },
  {
   "cell_type": "code",
   "execution_count": 335,
   "id": "a7be422c-7511-4ed5-a58f-bb369ea3b306",
   "metadata": {},
   "outputs": [
    {
     "data": {
      "text/plain": [
       "59"
      ]
     },
     "execution_count": 335,
     "metadata": {},
     "output_type": "execute_result"
    }
   ],
   "source": [
    "ds_comments = comments_data.loc[comments_data['code'] == 'ds']\n",
    "ds_comments.shape[0]"
   ]
  },
  {
   "cell_type": "code",
   "execution_count": 336,
   "id": "3e39bc32-2d34-4f81-a13a-1b3ed052d2f1",
   "metadata": {},
   "outputs": [
    {
     "name": "stdout",
     "output_type": "stream",
     "text": [
      "51\n",
      "1\n",
      "7\n"
     ]
    }
   ],
   "source": [
    "print(ds_comments.loc[comments_data['sentiment tag'] == 'pos'].shape[0])\n",
    "print(ds_comments.loc[comments_data['sentiment tag'] == 'neu'].shape[0])\n",
    "print(ds_comments.loc[comments_data['sentiment tag'] == 'neg'].shape[0])"
   ]
  },
  {
   "cell_type": "code",
   "execution_count": 337,
   "id": "df0bedd9-e265-438d-8d0b-58eec1de5122",
   "metadata": {},
   "outputs": [
    {
     "data": {
      "text/plain": [
       "51"
      ]
     },
     "execution_count": 337,
     "metadata": {},
     "output_type": "execute_result"
    }
   ],
   "source": [
    "ec_comments = comments_data.loc[comments_data['code'] == 'ec']\n",
    "ec_comments.shape[0]"
   ]
  },
  {
   "cell_type": "code",
   "execution_count": 338,
   "id": "ad4041c0-b033-4559-a9c6-48f84d8a5306",
   "metadata": {},
   "outputs": [
    {
     "name": "stdout",
     "output_type": "stream",
     "text": [
      "42\n",
      "5\n",
      "4\n"
     ]
    }
   ],
   "source": [
    "print(ec_comments.loc[comments_data['sentiment tag'] == 'pos'].shape[0])\n",
    "print(ec_comments.loc[comments_data['sentiment tag'] == 'neu'].shape[0])\n",
    "print(ec_comments.loc[comments_data['sentiment tag'] == 'neg'].shape[0])"
   ]
  },
  {
   "cell_type": "code",
   "execution_count": 339,
   "id": "c2cbb976-bc56-4dc4-8916-3bdb5e5356f5",
   "metadata": {},
   "outputs": [
    {
     "data": {
      "text/plain": [
       "134"
      ]
     },
     "execution_count": 339,
     "metadata": {},
     "output_type": "execute_result"
    }
   ],
   "source": [
    "ee_comments = comments_data.loc[comments_data['code'] == 'ee']\n",
    "ee_comments.shape[0]"
   ]
  },
  {
   "cell_type": "code",
   "execution_count": 340,
   "id": "4d1d24dc-c631-4887-a38e-5aa9bffb0b97",
   "metadata": {},
   "outputs": [
    {
     "name": "stdout",
     "output_type": "stream",
     "text": [
      "60\n",
      "43\n",
      "31\n"
     ]
    }
   ],
   "source": [
    "print(ee_comments.loc[comments_data['sentiment tag'] == 'pos'].shape[0])\n",
    "print(ee_comments.loc[comments_data['sentiment tag'] == 'neu'].shape[0])\n",
    "print(ee_comments.loc[comments_data['sentiment tag'] == 'neg'].shape[0])"
   ]
  },
  {
   "cell_type": "code",
   "execution_count": 341,
   "id": "e106bb32-0ef1-416f-b5cf-7c25013373be",
   "metadata": {},
   "outputs": [
    {
     "data": {
      "text/plain": [
       "198"
      ]
     },
     "execution_count": 341,
     "metadata": {},
     "output_type": "execute_result"
    }
   ],
   "source": [
    "ef_comments = comments_data.loc[comments_data['code'] == 'ef']\n",
    "ef_comments.shape[0]"
   ]
  },
  {
   "cell_type": "code",
   "execution_count": 342,
   "id": "d8bfd92a-c781-4f2c-ab2f-18265b874aff",
   "metadata": {},
   "outputs": [
    {
     "name": "stdout",
     "output_type": "stream",
     "text": [
      "104\n",
      "69\n",
      "25\n"
     ]
    }
   ],
   "source": [
    "print(ef_comments.loc[comments_data['sentiment tag'] == 'pos'].shape[0])\n",
    "print(ef_comments.loc[comments_data['sentiment tag'] == 'neu'].shape[0])\n",
    "print(ef_comments.loc[comments_data['sentiment tag'] == 'neg'].shape[0])"
   ]
  },
  {
   "cell_type": "code",
   "execution_count": 343,
   "id": "70514ab5-d50d-4b4d-8b30-26b09e7c7466",
   "metadata": {},
   "outputs": [
    {
     "data": {
      "text/plain": [
       "9"
      ]
     },
     "execution_count": 343,
     "metadata": {},
     "output_type": "execute_result"
    }
   ],
   "source": [
    "ep_comments = comments_data.loc[comments_data['code'] == 'ep']\n",
    "ep_comments.shape[0]"
   ]
  },
  {
   "cell_type": "code",
   "execution_count": 344,
   "id": "3efeeeab-75c3-4bbd-b666-098d2aee85dc",
   "metadata": {},
   "outputs": [
    {
     "name": "stdout",
     "output_type": "stream",
     "text": [
      "2\n",
      "4\n",
      "3\n"
     ]
    }
   ],
   "source": [
    "print(ep_comments.loc[comments_data['sentiment tag'] == 'pos'].shape[0])\n",
    "print(ep_comments.loc[comments_data['sentiment tag'] == 'neu'].shape[0])\n",
    "print(ep_comments.loc[comments_data['sentiment tag'] == 'neg'].shape[0])"
   ]
  },
  {
   "cell_type": "code",
   "execution_count": 345,
   "id": "b8741e5f-57c4-4cf8-b9bc-02d0f7034564",
   "metadata": {},
   "outputs": [
    {
     "data": {
      "text/plain": [
       "147"
      ]
     },
     "execution_count": 345,
     "metadata": {},
     "output_type": "execute_result"
    }
   ],
   "source": [
    "eq_comments = comments_data.loc[comments_data['code'] == 'eq']\n",
    "eq_comments.shape[0]"
   ]
  },
  {
   "cell_type": "code",
   "execution_count": 346,
   "id": "bc31d92d-860a-4aa7-915f-109bde71ba98",
   "metadata": {},
   "outputs": [
    {
     "name": "stdout",
     "output_type": "stream",
     "text": [
      "77\n",
      "51\n",
      "19\n"
     ]
    }
   ],
   "source": [
    "print(eq_comments.loc[comments_data['sentiment tag'] == 'pos'].shape[0])\n",
    "print(eq_comments.loc[comments_data['sentiment tag'] == 'neu'].shape[0])\n",
    "print(eq_comments.loc[comments_data['sentiment tag'] == 'neg'].shape[0])"
   ]
  },
  {
   "cell_type": "code",
   "execution_count": 347,
   "id": "4df2a0fd-fc4b-4488-bdca-4581110410c6",
   "metadata": {},
   "outputs": [
    {
     "data": {
      "text/plain": [
       "457"
      ]
     },
     "execution_count": 347,
     "metadata": {},
     "output_type": "execute_result"
    }
   ],
   "source": [
    "mi_comments = comments_data.loc[comments_data['code'] == 'mi']\n",
    "mi_comments.shape[0]"
   ]
  },
  {
   "cell_type": "code",
   "execution_count": 348,
   "id": "d8c73cba-5541-4d6e-9bcc-94c61fb57de7",
   "metadata": {},
   "outputs": [
    {
     "name": "stdout",
     "output_type": "stream",
     "text": [
      "343\n",
      "82\n",
      "32\n"
     ]
    }
   ],
   "source": [
    "print(mi_comments.loc[comments_data['sentiment tag'] == 'pos'].shape[0])\n",
    "print(mi_comments.loc[comments_data['sentiment tag'] == 'neu'].shape[0])\n",
    "print(mi_comments.loc[comments_data['sentiment tag'] == 'neg'].shape[0])"
   ]
  },
  {
   "cell_type": "code",
   "execution_count": 349,
   "id": "6e99655b-abd3-406d-9b44-a17c1bca9908",
   "metadata": {},
   "outputs": [
    {
     "data": {
      "text/plain": [
       "213"
      ]
     },
     "execution_count": 349,
     "metadata": {},
     "output_type": "execute_result"
    }
   ],
   "source": [
    "ml_comments = comments_data.loc[comments_data['code'] == 'ml']\n",
    "ml_comments.shape[0]"
   ]
  },
  {
   "cell_type": "code",
   "execution_count": 350,
   "id": "cec8d5a0-e009-4ed0-a5a2-2d3320422c3e",
   "metadata": {},
   "outputs": [
    {
     "name": "stdout",
     "output_type": "stream",
     "text": [
      "119\n",
      "64\n",
      "30\n"
     ]
    }
   ],
   "source": [
    "print(ml_comments.loc[comments_data['sentiment tag'] == 'pos'].shape[0])\n",
    "print(ml_comments.loc[comments_data['sentiment tag'] == 'neu'].shape[0])\n",
    "print(ml_comments.loc[comments_data['sentiment tag'] == 'neg'].shape[0])"
   ]
  },
  {
   "cell_type": "code",
   "execution_count": 351,
   "id": "cfa2c808-9868-4872-ba80-0c6a7fa7793b",
   "metadata": {},
   "outputs": [
    {
     "data": {
      "text/plain": [
       "286"
      ]
     },
     "execution_count": 351,
     "metadata": {},
     "output_type": "execute_result"
    }
   ],
   "source": [
    "mm_comments = comments_data.loc[comments_data['code'] == 'mm']\n",
    "mm_comments.shape[0]"
   ]
  },
  {
   "cell_type": "code",
   "execution_count": 352,
   "id": "6e3ad3c1-e3ae-430d-9f35-0a57139f420f",
   "metadata": {},
   "outputs": [
    {
     "name": "stdout",
     "output_type": "stream",
     "text": [
      "190\n",
      "53\n",
      "43\n"
     ]
    }
   ],
   "source": [
    "print(mm_comments.loc[comments_data['sentiment tag'] == 'pos'].shape[0])\n",
    "print(mm_comments.loc[comments_data['sentiment tag'] == 'neu'].shape[0])\n",
    "print(mm_comments.loc[comments_data['sentiment tag'] == 'neg'].shape[0])"
   ]
  },
  {
   "cell_type": "code",
   "execution_count": 353,
   "id": "f02d5e73-b202-44a0-b439-e04c6948c715",
   "metadata": {},
   "outputs": [
    {
     "data": {
      "text/plain": [
       "1552"
      ]
     },
     "execution_count": 353,
     "metadata": {},
     "output_type": "execute_result"
    }
   ],
   "source": [
    "sa_comments = comments_data.loc[comments_data['code'] == 'sa']\n",
    "sa_comments.shape[0]"
   ]
  },
  {
   "cell_type": "code",
   "execution_count": 354,
   "id": "48ed14e4-3607-4909-92d3-78125b689d34",
   "metadata": {},
   "outputs": [
    {
     "name": "stdout",
     "output_type": "stream",
     "text": [
      "1440\n",
      "50\n",
      "62\n"
     ]
    }
   ],
   "source": [
    "print(sa_comments.loc[comments_data['sentiment tag'] == 'pos'].shape[0])\n",
    "print(sa_comments.loc[comments_data['sentiment tag'] == 'neu'].shape[0])\n",
    "print(sa_comments.loc[comments_data['sentiment tag'] == 'neg'].shape[0])"
   ]
  },
  {
   "cell_type": "code",
   "execution_count": 355,
   "id": "42f25e9e-aaee-4c32-94fc-0fe0bd065190",
   "metadata": {},
   "outputs": [
    {
     "data": {
      "text/plain": [
       "64"
      ]
     },
     "execution_count": 355,
     "metadata": {},
     "output_type": "execute_result"
    }
   ],
   "source": [
    "sl_comments = comments_data.loc[comments_data['code'] == 'sl']\n",
    "sl_comments.shape[0]"
   ]
  },
  {
   "cell_type": "code",
   "execution_count": 356,
   "id": "25ec63c0-8551-4335-b87f-e2c03de13b36",
   "metadata": {},
   "outputs": [
    {
     "name": "stdout",
     "output_type": "stream",
     "text": [
      "34\n",
      "22\n",
      "8\n"
     ]
    }
   ],
   "source": [
    "print(sl_comments.loc[comments_data['sentiment tag'] == 'pos'].shape[0])\n",
    "print(sl_comments.loc[comments_data['sentiment tag'] == 'neu'].shape[0])\n",
    "print(sl_comments.loc[comments_data['sentiment tag'] == 'neg'].shape[0])"
   ]
  },
  {
   "cell_type": "code",
   "execution_count": 357,
   "id": "bb356306-d93a-4e15-8196-f5c2251dba03",
   "metadata": {},
   "outputs": [
    {
     "data": {
      "text/plain": [
       "463"
      ]
     },
     "execution_count": 357,
     "metadata": {},
     "output_type": "execute_result"
    }
   ],
   "source": [
    "sp_comments = comments_data.loc[comments_data['code'] == 'sp']\n",
    "sp_comments.shape[0]"
   ]
  },
  {
   "cell_type": "code",
   "execution_count": 358,
   "id": "ba337ede-17d7-4236-a4f2-ea31facbdbd2",
   "metadata": {},
   "outputs": [
    {
     "name": "stdout",
     "output_type": "stream",
     "text": [
      "366\n",
      "52\n",
      "45\n"
     ]
    }
   ],
   "source": [
    "print(sp_comments.loc[comments_data['sentiment tag'] == 'pos'].shape[0])\n",
    "print(sp_comments.loc[comments_data['sentiment tag'] == 'neu'].shape[0])\n",
    "print(sp_comments.loc[comments_data['sentiment tag'] == 'neg'].shape[0])"
   ]
  },
  {
   "cell_type": "code",
   "execution_count": 359,
   "id": "62d54c1a-5e63-41fb-803e-6521cbf10c65",
   "metadata": {},
   "outputs": [
    {
     "data": {
      "text/plain": [
       "1302"
      ]
     },
     "execution_count": 359,
     "metadata": {},
     "output_type": "execute_result"
    }
   ],
   "source": [
    "ss_comments = comments_data.loc[comments_data['code'] == 'ss']\n",
    "ss_comments.shape[0]"
   ]
  },
  {
   "cell_type": "code",
   "execution_count": 360,
   "id": "c9f08adf-13c8-4de2-9993-2bd41a45d14a",
   "metadata": {},
   "outputs": [
    {
     "name": "stdout",
     "output_type": "stream",
     "text": [
      "1150\n",
      "106\n",
      "46\n"
     ]
    }
   ],
   "source": [
    "print(ss_comments.loc[comments_data['sentiment tag'] == 'pos'].shape[0])\n",
    "print(ss_comments.loc[comments_data['sentiment tag'] == 'neu'].shape[0])\n",
    "print(ss_comments.loc[comments_data['sentiment tag'] == 'neg'].shape[0])"
   ]
  },
  {
   "cell_type": "code",
   "execution_count": 361,
   "id": "9309a5a6-a59e-46c2-a564-2d176835fa7a",
   "metadata": {},
   "outputs": [
    {
     "data": {
      "text/plain": [
       "56"
      ]
     },
     "execution_count": 361,
     "metadata": {},
     "output_type": "execute_result"
    }
   ],
   "source": [
    "tc_comments = comments_data.loc[comments_data['code'] == 'tc']\n",
    "tc_comments.shape[0]"
   ]
  },
  {
   "cell_type": "code",
   "execution_count": 362,
   "id": "febb2164-03ec-4f36-a31d-05f8867b189b",
   "metadata": {},
   "outputs": [
    {
     "name": "stdout",
     "output_type": "stream",
     "text": [
      "36\n",
      "10\n",
      "10\n"
     ]
    }
   ],
   "source": [
    "print(tc_comments.loc[comments_data['sentiment tag'] == 'pos'].shape[0])\n",
    "print(tc_comments.loc[comments_data['sentiment tag'] == 'neu'].shape[0])\n",
    "print(tc_comments.loc[comments_data['sentiment tag'] == 'neg'].shape[0])"
   ]
  },
  {
   "cell_type": "code",
   "execution_count": 363,
   "id": "37ca2169-ce08-4887-98eb-df74b55bd332",
   "metadata": {},
   "outputs": [
    {
     "data": {
      "text/plain": [
       "74"
      ]
     },
     "execution_count": 363,
     "metadata": {},
     "output_type": "execute_result"
    }
   ],
   "source": [
    "ti_comments = comments_data.loc[comments_data['code'] == 'ti']\n",
    "ti_comments.shape[0]"
   ]
  },
  {
   "cell_type": "code",
   "execution_count": 364,
   "id": "bf4fc6d2-f41c-4778-98e3-25858fbad290",
   "metadata": {},
   "outputs": [
    {
     "name": "stdout",
     "output_type": "stream",
     "text": [
      "33\n",
      "14\n",
      "27\n"
     ]
    }
   ],
   "source": [
    "print(ti_comments.loc[comments_data['sentiment tag'] == 'pos'].shape[0])\n",
    "print(ti_comments.loc[comments_data['sentiment tag'] == 'neu'].shape[0])\n",
    "print(ti_comments.loc[comments_data['sentiment tag'] == 'neg'].shape[0])"
   ]
  },
  {
   "cell_type": "code",
   "execution_count": 365,
   "id": "4462cc87-3b8f-41cf-a758-a974f66b0407",
   "metadata": {},
   "outputs": [
    {
     "data": {
      "text/plain": [
       "16"
      ]
     },
     "execution_count": 365,
     "metadata": {},
     "output_type": "execute_result"
    }
   ],
   "source": [
    "tt_comments = comments_data.loc[comments_data['code'] == 'tt']\n",
    "tt_comments.shape[0]"
   ]
  },
  {
   "cell_type": "code",
   "execution_count": 366,
   "id": "4205f69d-37c7-46df-a78f-b23535dfe725",
   "metadata": {},
   "outputs": [
    {
     "name": "stdout",
     "output_type": "stream",
     "text": [
      "11\n",
      "3\n",
      "2\n"
     ]
    }
   ],
   "source": [
    "print(tt_comments.loc[comments_data['sentiment tag'] == 'pos'].shape[0])\n",
    "print(tt_comments.loc[comments_data['sentiment tag'] == 'neu'].shape[0])\n",
    "print(tt_comments.loc[comments_data['sentiment tag'] == 'neg'].shape[0])"
   ]
  },
  {
   "cell_type": "code",
   "execution_count": 367,
   "id": "cd56e579-3b9b-430e-b83e-f43b2ce47849",
   "metadata": {},
   "outputs": [
    {
     "data": {
      "text/plain": [
       "38"
      ]
     },
     "execution_count": 367,
     "metadata": {},
     "output_type": "execute_result"
    }
   ],
   "source": [
    "tx_comments = comments_data.loc[comments_data['code'] == 'tx']\n",
    "tx_comments.shape[0]"
   ]
  },
  {
   "cell_type": "code",
   "execution_count": 368,
   "id": "1e45be4f-5a5d-44af-8e36-38e4d6f8cc4f",
   "metadata": {},
   "outputs": [
    {
     "name": "stdout",
     "output_type": "stream",
     "text": [
      "7\n",
      "21\n",
      "10\n"
     ]
    }
   ],
   "source": [
    "print(tx_comments.loc[comments_data['sentiment tag'] == 'pos'].shape[0])\n",
    "print(tx_comments.loc[comments_data['sentiment tag'] == 'neu'].shape[0])\n",
    "print(tx_comments.loc[comments_data['sentiment tag'] == 'neg'].shape[0])"
   ]
  },
  {
   "cell_type": "code",
   "execution_count": 369,
   "id": "71f2a1a0-bb7d-4e27-ab12-733c31d7a7d4",
   "metadata": {},
   "outputs": [
    {
     "data": {
      "text/plain": [
       "185"
      ]
     },
     "execution_count": 369,
     "metadata": {},
     "output_type": "execute_result"
    }
   ],
   "source": [
    "wa_comments = comments_data.loc[comments_data['code'] == 'wa']\n",
    "wa_comments.shape[0]"
   ]
  },
  {
   "cell_type": "code",
   "execution_count": 370,
   "id": "09cccf1e-dd99-44eb-b8d8-272907ca0bcc",
   "metadata": {},
   "outputs": [
    {
     "name": "stdout",
     "output_type": "stream",
     "text": [
      "94\n",
      "51\n",
      "40\n"
     ]
    }
   ],
   "source": [
    "print(wa_comments.loc[comments_data['sentiment tag'] == 'pos'].shape[0])\n",
    "print(wa_comments.loc[comments_data['sentiment tag'] == 'neu'].shape[0])\n",
    "print(wa_comments.loc[comments_data['sentiment tag'] == 'neg'].shape[0])"
   ]
  },
  {
   "cell_type": "code",
   "execution_count": 371,
   "id": "ac6ebbb0-99b1-4134-8d21-8418a40a860e",
   "metadata": {},
   "outputs": [
    {
     "data": {
      "text/plain": [
       "41"
      ]
     },
     "execution_count": 371,
     "metadata": {},
     "output_type": "execute_result"
    }
   ],
   "source": [
    "wb_comments = comments_data.loc[comments_data['code'] == 'wb']\n",
    "wb_comments.shape[0]"
   ]
  },
  {
   "cell_type": "code",
   "execution_count": 372,
   "id": "efdfc3c0-9d93-41a2-8d69-cf5316d0e30a",
   "metadata": {},
   "outputs": [
    {
     "name": "stdout",
     "output_type": "stream",
     "text": [
      "13\n",
      "12\n",
      "16\n"
     ]
    }
   ],
   "source": [
    "print(wb_comments.loc[comments_data['sentiment tag'] == 'pos'].shape[0])\n",
    "print(wb_comments.loc[comments_data['sentiment tag'] == 'neu'].shape[0])\n",
    "print(wb_comments.loc[comments_data['sentiment tag'] == 'neg'].shape[0])"
   ]
  },
  {
   "cell_type": "code",
   "execution_count": 373,
   "id": "cf5e9d0c-9714-44d4-b0f6-6f2c27639021",
   "metadata": {},
   "outputs": [
    {
     "data": {
      "text/plain": [
       "274"
      ]
     },
     "execution_count": 373,
     "metadata": {},
     "output_type": "execute_result"
    }
   ],
   "source": [
    "xe_comments = comments_data.loc[comments_data['code'] == 'xe']\n",
    "xe_comments.shape[0]"
   ]
  },
  {
   "cell_type": "code",
   "execution_count": 374,
   "id": "5ac5411d-50c8-4c02-b32b-e0a65eddadfa",
   "metadata": {},
   "outputs": [
    {
     "name": "stdout",
     "output_type": "stream",
     "text": [
      "204\n",
      "39\n",
      "31\n"
     ]
    }
   ],
   "source": [
    "print(xe_comments.loc[comments_data['sentiment tag'] == 'pos'].shape[0])\n",
    "print(xe_comments.loc[comments_data['sentiment tag'] == 'neu'].shape[0])\n",
    "print(xe_comments.loc[comments_data['sentiment tag'] == 'neg'].shape[0])"
   ]
  },
  {
   "cell_type": "code",
   "execution_count": 375,
   "id": "0c608a5d-71df-432c-b3e3-05db702a899f",
   "metadata": {},
   "outputs": [
    {
     "data": {
      "text/plain": [
       "9"
      ]
     },
     "execution_count": 375,
     "metadata": {},
     "output_type": "execute_result"
    }
   ],
   "source": [
    "xf_comments = comments_data.loc[comments_data['code'] == 'xf']\n",
    "xf_comments.shape[0]"
   ]
  },
  {
   "cell_type": "code",
   "execution_count": 376,
   "id": "7ebe1208-7799-4494-8451-b89aa02b531e",
   "metadata": {},
   "outputs": [
    {
     "name": "stdout",
     "output_type": "stream",
     "text": [
      "4\n",
      "3\n",
      "2\n"
     ]
    }
   ],
   "source": [
    "print(xf_comments.loc[comments_data['sentiment tag'] == 'pos'].shape[0])\n",
    "print(xf_comments.loc[comments_data['sentiment tag'] == 'neu'].shape[0])\n",
    "print(xf_comments.loc[comments_data['sentiment tag'] == 'neg'].shape[0])"
   ]
  },
  {
   "cell_type": "code",
   "execution_count": 388,
   "id": "550242d1-a19e-496c-994b-ef2bdd4a5bc8",
   "metadata": {},
   "outputs": [
    {
     "data": {
      "text/plain": [
       "0"
      ]
     },
     "execution_count": 388,
     "metadata": {},
     "output_type": "execute_result"
    }
   ],
   "source": [
    "xg_comments = comments_data.loc[comments_data['code'] == 'xg']\n",
    "xg_comments.shape[0]"
   ]
  },
  {
   "cell_type": "code",
   "execution_count": 389,
   "id": "13e597db-4ce1-417c-9cf1-fa2e686af23b",
   "metadata": {},
   "outputs": [
    {
     "name": "stdout",
     "output_type": "stream",
     "text": [
      "0\n",
      "0\n",
      "0\n"
     ]
    }
   ],
   "source": [
    "print(xg_comments.loc[comments_data['sentiment tag'] == 'pos'].shape[0])\n",
    "print(xg_comments.loc[comments_data['sentiment tag'] == 'neu'].shape[0])\n",
    "print(xg_comments.loc[comments_data['sentiment tag'] == 'neg'].shape[0])"
   ]
  },
  {
   "cell_type": "code",
   "execution_count": 390,
   "id": "92ec01a1-b628-4c98-ab0a-beb953ede82c",
   "metadata": {},
   "outputs": [
    {
     "data": {
      "text/plain": [
       "11"
      ]
     },
     "execution_count": 390,
     "metadata": {},
     "output_type": "execute_result"
    }
   ],
   "source": [
    "xl_comments = comments_data.loc[comments_data['code'] == 'xl']\n",
    "xl_comments.shape[0]"
   ]
  },
  {
   "cell_type": "code",
   "execution_count": 391,
   "id": "2b3b11f6-8203-4518-bd84-4b9390598dcc",
   "metadata": {},
   "outputs": [
    {
     "name": "stdout",
     "output_type": "stream",
     "text": [
      "8\n",
      "0\n",
      "3\n"
     ]
    }
   ],
   "source": [
    "print(xl_comments.loc[comments_data['sentiment tag'] == 'pos'].shape[0])\n",
    "print(xl_comments.loc[comments_data['sentiment tag'] == 'neu'].shape[0])\n",
    "print(xl_comments.loc[comments_data['sentiment tag'] == 'neg'].shape[0])"
   ]
  },
  {
   "cell_type": "code",
   "execution_count": 392,
   "id": "ca93da22-41ae-4d87-9560-9aadbf3009b7",
   "metadata": {},
   "outputs": [
    {
     "data": {
      "text/plain": [
       "15"
      ]
     },
     "execution_count": 392,
     "metadata": {},
     "output_type": "execute_result"
    }
   ],
   "source": [
    "xm_comments = comments_data.loc[comments_data['code'] == 'xm']\n",
    "xm_comments.shape[0]"
   ]
  },
  {
   "cell_type": "code",
   "execution_count": 393,
   "id": "53257f67-e310-49a3-9b22-b89df5ab6437",
   "metadata": {},
   "outputs": [
    {
     "name": "stdout",
     "output_type": "stream",
     "text": [
      "5\n",
      "7\n",
      "3\n"
     ]
    }
   ],
   "source": [
    "print(xm_comments.loc[comments_data['sentiment tag'] == 'pos'].shape[0])\n",
    "print(xm_comments.loc[comments_data['sentiment tag'] == 'neu'].shape[0])\n",
    "print(xm_comments.loc[comments_data['sentiment tag'] == 'neg'].shape[0])"
   ]
  },
  {
   "cell_type": "code",
   "execution_count": 394,
   "id": "4d9440b2-5683-4a19-8417-0a2488601bfe",
   "metadata": {},
   "outputs": [
    {
     "data": {
      "text/plain": [
       "5"
      ]
     },
     "execution_count": 394,
     "metadata": {},
     "output_type": "execute_result"
    }
   ],
   "source": [
    "xs_comments = comments_data.loc[comments_data['code'] == 'xs']\n",
    "xs_comments.shape[0]"
   ]
  },
  {
   "cell_type": "code",
   "execution_count": 395,
   "id": "0129f2fd-7c0f-4d13-8b60-f7f7cf64c87c",
   "metadata": {},
   "outputs": [
    {
     "name": "stdout",
     "output_type": "stream",
     "text": [
      "3\n",
      "1\n",
      "1\n"
     ]
    }
   ],
   "source": [
    "print(xs_comments.loc[comments_data['sentiment tag'] == 'pos'].shape[0])\n",
    "print(xs_comments.loc[comments_data['sentiment tag'] == 'neu'].shape[0])\n",
    "print(xs_comments.loc[comments_data['sentiment tag'] == 'neg'].shape[0])"
   ]
  },
  {
   "cell_type": "code",
   "execution_count": 396,
   "id": "30a7e1b5-6375-48f3-b0fd-85ecd001c617",
   "metadata": {},
   "outputs": [
    {
     "data": {
      "text/plain": [
       "1754"
      ]
     },
     "execution_count": 396,
     "metadata": {},
     "output_type": "execute_result"
    }
   ],
   "source": [
    "xn_comments = comments_data.loc[comments_data['code'] == 'xn']\n",
    "xn_comments.shape[0]"
   ]
  },
  {
   "cell_type": "code",
   "execution_count": 397,
   "id": "b398ba09-7837-4449-82a0-4783c6895fae",
   "metadata": {},
   "outputs": [
    {
     "data": {
      "text/plain": [
       "52"
      ]
     },
     "execution_count": 397,
     "metadata": {},
     "output_type": "execute_result"
    }
   ],
   "source": [
    "xnM_comments = xn_comments.loc[xn_comments['label'] == 'Miscellaneous']\n",
    "xnM_comments.shape[0]"
   ]
  },
  {
   "cell_type": "code",
   "execution_count": 398,
   "id": "542cf229-cb1c-4bed-ab7d-39561fd123c5",
   "metadata": {},
   "outputs": [
    {
     "name": "stdout",
     "output_type": "stream",
     "text": [
      "3\n",
      "18\n",
      "31\n"
     ]
    }
   ],
   "source": [
    "print(xnM_comments.loc[xn_comments['sentiment tag'] == 'pos'].shape[0])\n",
    "print(xnM_comments.loc[xn_comments['sentiment tag'] == 'neu'].shape[0])\n",
    "print(xnM_comments.loc[xn_comments['sentiment tag'] == 'neg'].shape[0])"
   ]
  },
  {
   "cell_type": "code",
   "execution_count": 399,
   "id": "a56aaeca-b55f-4433-ba2e-59d12f37625b",
   "metadata": {},
   "outputs": [
    {
     "data": {
      "text/plain": [
       "1702"
      ]
     },
     "execution_count": 399,
     "metadata": {},
     "output_type": "execute_result"
    }
   ],
   "source": [
    "xnC_comments = xn_comments.loc[xn_comments['label'] == \"Couldn't be improved\"]\n",
    "xnC_comments.shape[0]"
   ]
  },
  {
   "cell_type": "code",
   "execution_count": 400,
   "id": "691af99a-11bb-4b77-8cbf-304c5c651bfa",
   "metadata": {},
   "outputs": [
    {
     "name": "stdout",
     "output_type": "stream",
     "text": [
      "296\n",
      "1002\n",
      "404\n"
     ]
    }
   ],
   "source": [
    "print(xnC_comments.loc[xn_comments['sentiment tag'] == 'pos'].shape[0])\n",
    "print(xnC_comments.loc[xn_comments['sentiment tag'] == 'neu'].shape[0])\n",
    "print(xnC_comments.loc[xn_comments['sentiment tag'] == 'neg'].shape[0])"
   ]
  }
 ],
 "metadata": {
  "kernelspec": {
   "display_name": "Python 3 (ipykernel)",
   "language": "python",
   "name": "python3"
  },
  "language_info": {
   "codemirror_mode": {
    "name": "ipython",
    "version": 3
   },
   "file_extension": ".py",
   "mimetype": "text/x-python",
   "name": "python",
   "nbconvert_exporter": "python",
   "pygments_lexer": "ipython3",
   "version": "3.8.12"
  }
 },
 "nbformat": 4,
 "nbformat_minor": 5
}
